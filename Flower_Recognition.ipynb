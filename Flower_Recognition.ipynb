{
 "cells": [
  {
   "cell_type": "markdown",
   "metadata": {},
   "source": [
    "Assignment: Flowers Recognition <br>\n",
    "Dataset Description:<br>\n",
    "\n",
    "This dataset contains 4242 images of flowers.<br>\n",
    "The data collection is based on the data flicr, google images, yandex images.<br>\n",
    "You can use this datastet to recognize plants from the photo.<br>\n",
    "\n",
    "Attribute Information:<br>\n",
    "The pictures are divided into five classes: chamomile, tulip, rose, sunflower, dandelion.<br>\n",
    "For each class there are about 800 photos. Photos are not high resolution, about 320x240 pixels. <br>\n",
    "<b>Also explore how to resize images in tensorflow and then resize all the images to a same size. </b> <br>\n",
    "This is a Multiclass Classification Problem.<br>\n",
    "\n",
    "\n"
   ]
  },
  {
   "cell_type": "markdown",
   "metadata": {},
   "source": [
    "WORKFLOW : <br>\n",
    "Load Data <br>\n",
    "Split into 60 and 40 ratio.<br>\n",
    "Encode labels.<br>\n",
    "Create Model<br>\n",
    "Compilation Step (Note : Its a Multiclass Classification problem , select loss , metrics according to it)<br>\n",
    "Train the Model.<br>\n",
    "If the model gets overfit tune your model by changing the units , No. of layers , epochs , add dropout layer or add Regularizer according to the need .<br>\n",
    "Prediction should be > 85%<br>\n",
    "Evaluation Step<br>\n",
    "Prediction<br>\n",
    "\n",
    "\n"
   ]
  },
  {
   "cell_type": "markdown",
   "metadata": {
    "papermill": {
     "duration": 0.016849,
     "end_time": "2021-03-29T07:38:43.755990",
     "exception": false,
     "start_time": "2021-03-29T07:38:43.739141",
     "status": "completed"
    },
    "tags": []
   },
   "source": [
    "# **Importing Required Libraries**"
   ]
  },
  {
   "cell_type": "code",
   "execution_count": 2,
   "metadata": {
    "execution": {
     "iopub.execute_input": "2021-03-29T07:38:43.795267Z",
     "iopub.status.busy": "2021-03-29T07:38:43.794581Z",
     "iopub.status.idle": "2021-03-29T07:38:49.290360Z",
     "shell.execute_reply": "2021-03-29T07:38:49.289677Z"
    },
    "papermill": {
     "duration": 5.518368,
     "end_time": "2021-03-29T07:38:49.290531",
     "exception": false,
     "start_time": "2021-03-29T07:38:43.772163",
     "status": "completed"
    },
    "tags": []
   },
   "outputs": [],
   "source": [
    "import numpy as np\n",
    "import pandas as pd \n",
    "from pathlib import Path\n",
    "import os\n",
    "import matplotlib.pyplot as plt\n",
    "from tensorflow.keras.layers import Conv2D,Dense,Dropout,Input,Flatten,MaxPooling2D\n",
    "from tensorflow.keras.models import Model\n",
    "from tensorflow.keras.utils import plot_model,to_categorical\n",
    "from sklearn.model_selection import train_test_split\n",
    "from tensorflow.keras.preprocessing import image"
   ]
  },
  {
   "cell_type": "markdown",
   "metadata": {
    "papermill": {
     "duration": 0.015475,
     "end_time": "2021-03-29T07:38:49.321842",
     "exception": false,
     "start_time": "2021-03-29T07:38:49.306367",
     "status": "completed"
    },
    "tags": []
   },
   "source": [
    "# **Loading Images**"
   ]
  },
  {
   "cell_type": "code",
   "execution_count": 75,
   "metadata": {
    "execution": {
     "iopub.execute_input": "2021-03-29T07:38:49.360029Z",
     "iopub.status.busy": "2021-03-29T07:38:49.359380Z",
     "iopub.status.idle": "2021-03-29T07:39:16.079260Z",
     "shell.execute_reply": "2021-03-29T07:39:16.078298Z"
    },
    "papermill": {
     "duration": 26.742747,
     "end_time": "2021-03-29T07:39:16.079403",
     "exception": false,
     "start_time": "2021-03-29T07:38:49.336656",
     "status": "completed"
    },
    "scrolled": true,
    "tags": []
   },
   "outputs": [
    {
     "name": "stdout",
     "output_type": "stream",
     "text": [
      "daisy\n",
      "dandelion\n",
      "rose\n",
      "sunflower\n",
      "tulip\n"
     ]
    }
   ],
   "source": [
    "from tensorflow.keras.preprocessing import image\n",
    "p = Path('./input/flowers-recognition/flowers')\n",
    "dirs = p.glob('*')\n",
    "image_data = []\n",
    "labels = []\n",
    "label_dict = {'dandelion':0,'daisy':1,'flowers':2,'sunflower':3,'tulip':4,'rose':5}\n",
    "for folder_dir in dirs:\n",
    "    label= str(folder_dir).split('\\\\')[-1]\n",
    "    cnt = 0\n",
    "    print(label)\n",
    "    for image_path in folder_dir.glob('*.jpg'):\n",
    "        img = image.load_img(image_path,target_size = (64,64))\n",
    "        img_array = image.img_to_array(img)\n",
    "        image_data.append(img_array)\n",
    "        labels.append(label_dict[label])\n",
    "    "
   ]
  },
  {
   "cell_type": "code",
   "execution_count": 76,
   "metadata": {
    "execution": {
     "iopub.execute_input": "2021-03-29T07:39:16.118522Z",
     "iopub.status.busy": "2021-03-29T07:39:16.117877Z",
     "iopub.status.idle": "2021-03-29T07:39:16.123404Z",
     "shell.execute_reply": "2021-03-29T07:39:16.122810Z"
    },
    "papermill": {
     "duration": 0.02738,
     "end_time": "2021-03-29T07:39:16.123556",
     "exception": false,
     "start_time": "2021-03-29T07:39:16.096176",
     "status": "completed"
    },
    "tags": []
   },
   "outputs": [
    {
     "name": "stdout",
     "output_type": "stream",
     "text": [
      "4323 4323\n"
     ]
    }
   ],
   "source": [
    "print(len(image_data),len(labels))"
   ]
  },
  {
   "cell_type": "code",
   "execution_count": 77,
   "metadata": {
    "execution": {
     "iopub.execute_input": "2021-03-29T07:39:16.162089Z",
     "iopub.status.busy": "2021-03-29T07:39:16.161508Z",
     "iopub.status.idle": "2021-03-29T07:39:16.233017Z",
     "shell.execute_reply": "2021-03-29T07:39:16.232516Z"
    },
    "papermill": {
     "duration": 0.092424,
     "end_time": "2021-03-29T07:39:16.233156",
     "exception": false,
     "start_time": "2021-03-29T07:39:16.140732",
     "status": "completed"
    },
    "tags": []
   },
   "outputs": [],
   "source": [
    "x = np.array(image_data)\n",
    "y = np.array(labels)"
   ]
  },
  {
   "cell_type": "code",
   "execution_count": 78,
   "metadata": {
    "execution": {
     "iopub.execute_input": "2021-03-29T07:39:16.274143Z",
     "iopub.status.busy": "2021-03-29T07:39:16.273174Z",
     "iopub.status.idle": "2021-03-29T07:39:16.277530Z",
     "shell.execute_reply": "2021-03-29T07:39:16.277115Z"
    },
    "papermill": {
     "duration": 0.027228,
     "end_time": "2021-03-29T07:39:16.277648",
     "exception": false,
     "start_time": "2021-03-29T07:39:16.250420",
     "status": "completed"
    },
    "tags": []
   },
   "outputs": [
    {
     "data": {
      "text/plain": [
       "(4323, 64, 64, 3)"
      ]
     },
     "execution_count": 78,
     "metadata": {},
     "output_type": "execute_result"
    }
   ],
   "source": [
    "x.shape"
   ]
  },
  {
   "cell_type": "code",
   "execution_count": 79,
   "metadata": {
    "execution": {
     "iopub.execute_input": "2021-03-29T07:39:16.318152Z",
     "iopub.status.busy": "2021-03-29T07:39:16.317233Z",
     "iopub.status.idle": "2021-03-29T07:39:16.320686Z",
     "shell.execute_reply": "2021-03-29T07:39:16.321127Z"
    },
    "papermill": {
     "duration": 0.026441,
     "end_time": "2021-03-29T07:39:16.321282",
     "exception": false,
     "start_time": "2021-03-29T07:39:16.294841",
     "status": "completed"
    },
    "tags": []
   },
   "outputs": [
    {
     "data": {
      "text/plain": [
       "(4323,)"
      ]
     },
     "execution_count": 79,
     "metadata": {},
     "output_type": "execute_result"
    }
   ],
   "source": [
    "y.shape"
   ]
  },
  {
   "cell_type": "markdown",
   "metadata": {
    "papermill": {
     "duration": 0.017306,
     "end_time": "2021-03-29T07:39:16.356080",
     "exception": false,
     "start_time": "2021-03-29T07:39:16.338774",
     "status": "completed"
    },
    "tags": []
   },
   "source": [
    "# Visualizing Images"
   ]
  },
  {
   "cell_type": "code",
   "execution_count": 80,
   "metadata": {
    "execution": {
     "iopub.execute_input": "2021-03-29T07:39:16.395745Z",
     "iopub.status.busy": "2021-03-29T07:39:16.395207Z",
     "iopub.status.idle": "2021-03-29T07:39:16.399463Z",
     "shell.execute_reply": "2021-03-29T07:39:16.399028Z"
    },
    "papermill": {
     "duration": 0.025973,
     "end_time": "2021-03-29T07:39:16.399576",
     "exception": false,
     "start_time": "2021-03-29T07:39:16.373603",
     "status": "completed"
    },
    "tags": []
   },
   "outputs": [],
   "source": [
    "def draw_flower(img,label):\n",
    "    plt.imshow(img)\n",
    "    plt.title(label)"
   ]
  },
  {
   "cell_type": "code",
   "execution_count": 81,
   "metadata": {
    "execution": {
     "iopub.execute_input": "2021-03-29T07:39:16.455914Z",
     "iopub.status.busy": "2021-03-29T07:39:16.454740Z",
     "iopub.status.idle": "2021-03-29T07:39:16.582619Z",
     "shell.execute_reply": "2021-03-29T07:39:16.582114Z"
    },
    "papermill": {
     "duration": 0.165347,
     "end_time": "2021-03-29T07:39:16.582749",
     "exception": false,
     "start_time": "2021-03-29T07:39:16.417402",
     "status": "completed"
    },
    "tags": []
   },
   "outputs": [
    {
     "data": {
      "image/png": "[encoded data removed]",
      "text/plain": [
       "<Figure size 432x288 with 1 Axes>"
      ]
     },
     "metadata": {
      "needs_background": "light"
     },
     "output_type": "display_data"
    }
   ],
   "source": [
    "draw_flower(x[20]/255.0,y[20])"
   ]
  },
  {
   "cell_type": "markdown",
   "metadata": {
    "papermill": {
     "duration": 0.019026,
     "end_time": "2021-03-29T07:39:16.620978",
     "exception": false,
     "start_time": "2021-03-29T07:39:16.601952",
     "status": "completed"
    },
    "tags": []
   },
   "source": [
    "# Preprocessing"
   ]
  },
  {
   "cell_type": "code",
   "execution_count": 82,
   "metadata": {
    "execution": {
     "iopub.execute_input": "2021-03-29T07:39:16.666124Z",
     "iopub.status.busy": "2021-03-29T07:39:16.664564Z",
     "iopub.status.idle": "2021-03-29T07:39:16.667802Z",
     "shell.execute_reply": "2021-03-29T07:39:16.667365Z"
    },
    "papermill": {
     "duration": 0.027025,
     "end_time": "2021-03-29T07:39:16.667929",
     "exception": false,
     "start_time": "2021-03-29T07:39:16.640904",
     "status": "completed"
    },
    "tags": []
   },
   "outputs": [],
   "source": [
    "num_labels = len(np.unique(y))\n"
   ]
  },
  {
   "cell_type": "code",
   "execution_count": 83,
   "metadata": {
    "execution": {
     "iopub.execute_input": "2021-03-29T07:39:16.712961Z",
     "iopub.status.busy": "2021-03-29T07:39:16.711773Z",
     "iopub.status.idle": "2021-03-29T07:39:16.778417Z",
     "shell.execute_reply": "2021-03-29T07:39:16.777949Z"
    },
    "papermill": {
     "duration": 0.091115,
     "end_time": "2021-03-29T07:39:16.778550",
     "exception": false,
     "start_time": "2021-03-29T07:39:16.687435",
     "status": "completed"
    },
    "tags": []
   },
   "outputs": [],
   "source": [
    "x_train,x_test,y_train,y_test = train_test_split(x,y,test_size = 0.40)"
   ]
  },
  {
   "cell_type": "code",
   "execution_count": 84,
   "metadata": {
    "execution": {
     "iopub.execute_input": "2021-03-29T07:39:16.822014Z",
     "iopub.status.busy": "2021-03-29T07:39:16.821452Z",
     "iopub.status.idle": "2021-03-29T07:39:16.827330Z",
     "shell.execute_reply": "2021-03-29T07:39:16.826903Z"
    },
    "papermill": {
     "duration": 0.028337,
     "end_time": "2021-03-29T07:39:16.827433",
     "exception": false,
     "start_time": "2021-03-29T07:39:16.799096",
     "status": "completed"
    },
    "tags": []
   },
   "outputs": [
    {
     "data": {
      "text/plain": [
       "(2593, 64, 64, 3)"
      ]
     },
     "execution_count": 84,
     "metadata": {},
     "output_type": "execute_result"
    }
   ],
   "source": [
    "x_train.shape"
   ]
  },
  {
   "cell_type": "code",
   "execution_count": 85,
   "metadata": {
    "execution": {
     "iopub.execute_input": "2021-03-29T07:39:16.871857Z",
     "iopub.status.busy": "2021-03-29T07:39:16.871306Z",
     "iopub.status.idle": "2021-03-29T07:39:16.877338Z",
     "shell.execute_reply": "2021-03-29T07:39:16.876913Z"
    },
    "papermill": {
     "duration": 0.02945,
     "end_time": "2021-03-29T07:39:16.877444",
     "exception": false,
     "start_time": "2021-03-29T07:39:16.847994",
     "status": "completed"
    },
    "tags": []
   },
   "outputs": [
    {
     "data": {
      "text/plain": [
       "(1730, 64, 64, 3)"
      ]
     },
     "execution_count": 85,
     "metadata": {},
     "output_type": "execute_result"
    }
   ],
   "source": [
    "x_test.shape"
   ]
  },
  {
   "cell_type": "code",
   "execution_count": 86,
   "metadata": {
    "execution": {
     "iopub.execute_input": "2021-03-29T07:39:16.921970Z",
     "iopub.status.busy": "2021-03-29T07:39:16.920924Z",
     "iopub.status.idle": "2021-03-29T07:39:16.989227Z",
     "shell.execute_reply": "2021-03-29T07:39:16.988726Z"
    },
    "papermill": {
     "duration": 0.092314,
     "end_time": "2021-03-29T07:39:16.989350",
     "exception": false,
     "start_time": "2021-03-29T07:39:16.897036",
     "status": "completed"
    },
    "tags": []
   },
   "outputs": [],
   "source": [
    "image_size = x_train.shape[1]\n",
    "x_train = np.reshape(x_train,[-1,image_size,image_size,3])\n",
    "x_test = np.reshape(x_test,[-1,image_size,image_size,3])\n",
    "x_train = x_train/255.0\n",
    "x_test = x_test/255.0"
   ]
  },
  {
   "cell_type": "code",
   "execution_count": 87,
   "metadata": {
    "execution": {
     "iopub.execute_input": "2021-03-29T07:39:17.034455Z",
     "iopub.status.busy": "2021-03-29T07:39:17.033757Z",
     "iopub.status.idle": "2021-03-29T07:39:17.036654Z",
     "shell.execute_reply": "2021-03-29T07:39:17.036259Z"
    },
    "papermill": {
     "duration": 0.027555,
     "end_time": "2021-03-29T07:39:17.036786",
     "exception": false,
     "start_time": "2021-03-29T07:39:17.009231",
     "status": "completed"
    },
    "tags": []
   },
   "outputs": [],
   "source": [
    "y_train = to_categorical(y_train)\n"
   ]
  },
  {
   "cell_type": "markdown",
   "metadata": {
    "papermill": {
     "duration": 0.019887,
     "end_time": "2021-03-29T07:39:17.076634",
     "exception": false,
     "start_time": "2021-03-29T07:39:17.056747",
     "status": "completed"
    },
    "tags": []
   },
   "source": [
    "# **Building a Convolutional Neural Network to Classify flowers**"
   ]
  },
  {
   "cell_type": "code",
   "execution_count": 88,
   "metadata": {
    "execution": {
     "iopub.execute_input": "2021-03-29T07:39:17.121029Z",
     "iopub.status.busy": "2021-03-29T07:39:17.120383Z",
     "iopub.status.idle": "2021-03-29T07:39:17.125632Z",
     "shell.execute_reply": "2021-03-29T07:39:17.125215Z"
    },
    "papermill": {
     "duration": 0.029206,
     "end_time": "2021-03-29T07:39:17.125749",
     "exception": false,
     "start_time": "2021-03-29T07:39:17.096543",
     "status": "completed"
    },
    "tags": []
   },
   "outputs": [
    {
     "data": {
      "text/plain": [
       "array([0, 1, 3, 4, 5])"
      ]
     },
     "execution_count": 88,
     "metadata": {},
     "output_type": "execute_result"
    }
   ],
   "source": [
    "np.unique(y_test)"
   ]
  },
  {
   "cell_type": "code",
   "execution_count": 89,
   "metadata": {
    "execution": {
     "iopub.execute_input": "2021-03-29T07:39:17.173260Z",
     "iopub.status.busy": "2021-03-29T07:39:17.172671Z",
     "iopub.status.idle": "2021-03-29T07:39:20.677428Z",
     "shell.execute_reply": "2021-03-29T07:39:20.676995Z"
    },
    "papermill": {
     "duration": 3.53173,
     "end_time": "2021-03-29T07:39:20.677550",
     "exception": false,
     "start_time": "2021-03-29T07:39:17.145820",
     "status": "completed"
    },
    "tags": []
   },
   "outputs": [
    {
     "name": "stdout",
     "output_type": "stream",
     "text": [
      "WARNING:tensorflow:From C:\\ProgramData\\Anaconda3\\lib\\site-packages\\tensorflow\\python\\ops\\init_ops.py:1251: calling VarianceScaling.__init__ (from tensorflow.python.ops.init_ops) with dtype is deprecated and will be removed in a future version.\n",
      "Instructions for updating:\n",
      "Call initializer instance with the dtype argument instead of passing it to the constructor\n",
      "Model: \"model\"\n",
      "_________________________________________________________________\n",
      "Layer (type)                 Output Shape              Param #   \n",
      "=================================================================\n",
      "input_1 (InputLayer)         [(None, 64, 64, 3)]       0         \n",
      "_________________________________________________________________\n",
      "conv2d (Conv2D)              (None, 64, 64, 32)        416       \n",
      "_________________________________________________________________\n",
      "max_pooling2d (MaxPooling2D) (None, 32, 32, 32)        0         \n",
      "_________________________________________________________________\n",
      "conv2d_1 (Conv2D)            (None, 32, 32, 64)        8256      \n",
      "_________________________________________________________________\n",
      "max_pooling2d_1 (MaxPooling2 (None, 16, 16, 64)        0         \n",
      "_________________________________________________________________\n",
      "conv2d_2 (Conv2D)            (None, 16, 16, 128)       32896     \n",
      "_________________________________________________________________\n",
      "conv2d_3 (Conv2D)            (None, 16, 16, 256)       131328    \n",
      "_________________________________________________________________\n",
      "dropout (Dropout)            (None, 16, 16, 256)       0         \n",
      "_________________________________________________________________\n",
      "flatten (Flatten)            (None, 65536)             0         \n",
      "_________________________________________________________________\n",
      "dense (Dense)                (None, 6)                 393222    \n",
      "=================================================================\n",
      "Total params: 566,118\n",
      "Trainable params: 566,118\n",
      "Non-trainable params: 0\n",
      "_________________________________________________________________\n",
      "Failed to import pydot. You must install pydot and graphviz for `pydotprint` to work.\n"
     ]
    }
   ],
   "source": [
    "input_shape = (64,64,3)\n",
    "inputs = Input(shape = input_shape)\n",
    "x = inputs\n",
    "x = Conv2D(32,kernel_size = 2,activation = 'relu',strides = 1,padding = 'same')(x)\n",
    "x = MaxPooling2D(pool_size = (2,2))(x)\n",
    "\n",
    "x = Conv2D(64,kernel_size = 2,activation = 'relu',strides = 1,padding = 'same')(x)\n",
    "x = MaxPooling2D(pool_size = (2,2))(x)\n",
    "\n",
    "\n",
    "x = Conv2D(128,kernel_size = 2,activation = 'relu',strides = 1,padding = 'same')(x)\n",
    "x = Conv2D(256,kernel_size = 2,activation = 'relu',strides = 1,padding = 'same')(x)\n",
    "x = Dropout(0.25)(x)\n",
    "x = Flatten()(x)\n",
    "outputs = Dense(6,activation = 'softmax')(x)\n",
    "flower_classifier = Model(inputs,outputs)\n",
    "\n",
    "flower_classifier.summary()\n",
    "plot_model(flower_classifier)"
   ]
  },
  {
   "cell_type": "code",
   "execution_count": 90,
   "metadata": {
    "execution": {
     "iopub.execute_input": "2021-03-29T07:39:20.736832Z",
     "iopub.status.busy": "2021-03-29T07:39:20.735810Z",
     "iopub.status.idle": "2021-03-29T07:39:20.751072Z",
     "shell.execute_reply": "2021-03-29T07:39:20.752066Z"
    },
    "papermill": {
     "duration": 0.052128,
     "end_time": "2021-03-29T07:39:20.752265",
     "exception": false,
     "start_time": "2021-03-29T07:39:20.700137",
     "status": "completed"
    },
    "tags": []
   },
   "outputs": [],
   "source": [
    "flower_classifier.compile(loss = 'categorical_crossentropy',optimizer = 'adam',metrics = ['accuracy'])"
   ]
  },
  {
   "cell_type": "code",
   "execution_count": 91,
   "metadata": {
    "execution": {
     "iopub.execute_input": "2021-03-29T07:39:20.834367Z",
     "iopub.status.busy": "2021-03-29T07:39:20.833557Z",
     "iopub.status.idle": "2021-03-29T07:39:20.839011Z",
     "shell.execute_reply": "2021-03-29T07:39:20.837906Z"
    },
    "papermill": {
     "duration": 0.0507,
     "end_time": "2021-03-29T07:39:20.839285",
     "exception": false,
     "start_time": "2021-03-29T07:39:20.788585",
     "status": "completed"
    },
    "tags": []
   },
   "outputs": [
    {
     "data": {
      "text/plain": [
       "(2593, 6)"
      ]
     },
     "execution_count": 91,
     "metadata": {},
     "output_type": "execute_result"
    }
   ],
   "source": [
    "y_train.shape"
   ]
  },
  {
   "cell_type": "code",
   "execution_count": 92,
   "metadata": {
    "execution": {
     "iopub.execute_input": "2021-03-29T07:39:20.922529Z",
     "iopub.status.busy": "2021-03-29T07:39:20.921659Z",
     "iopub.status.idle": "2021-03-29T07:39:39.159171Z",
     "shell.execute_reply": "2021-03-29T07:39:39.159620Z"
    },
    "papermill": {
     "duration": 18.28229,
     "end_time": "2021-03-29T07:39:39.159780",
     "exception": false,
     "start_time": "2021-03-29T07:39:20.877490",
     "status": "completed"
    },
    "tags": []
   },
   "outputs": [
    {
     "name": "stdout",
     "output_type": "stream",
     "text": [
      "Epoch 1/30\n",
      "2593/2593 [==============================] - 22s 9ms/sample - loss: 1.4971 - acc: 0.3440\n",
      "Epoch 2/30\n",
      "2593/2593 [==============================] - 23s 9ms/sample - loss: 1.1741 - acc: 0.5021\n",
      "Epoch 3/30\n",
      "2593/2593 [==============================] - 23s 9ms/sample - loss: 1.0461 - acc: 0.5827\n",
      "Epoch 4/30\n",
      "2593/2593 [==============================] - 23s 9ms/sample - loss: 1.0254 - acc: 0.5901\n",
      "Epoch 5/30\n",
      "2593/2593 [==============================] - 23s 9ms/sample - loss: 0.9278 - acc: 0.6444\n",
      "Epoch 6/30\n",
      "2593/2593 [==============================] - 23s 9ms/sample - loss: 0.8545 - acc: 0.6714\n",
      "Epoch 7/30\n",
      "2593/2593 [==============================] - 23s 9ms/sample - loss: 0.7990 - acc: 0.6973\n",
      "Epoch 8/30\n",
      "2593/2593 [==============================] - 24s 9ms/sample - loss: 0.7125 - acc: 0.7362\n",
      "Epoch 9/30\n",
      "2593/2593 [==============================] - 23s 9ms/sample - loss: 0.6732 - acc: 0.7486\n",
      "Epoch 10/30\n",
      "2593/2593 [==============================] - 22s 9ms/sample - loss: 0.5954 - acc: 0.7833\n",
      "Epoch 11/30\n",
      "2593/2593 [==============================] - 22s 9ms/sample - loss: 0.5399 - acc: 0.8022\n",
      "Epoch 12/30\n",
      "2593/2593 [==============================] - 22s 9ms/sample - loss: 0.4362 - acc: 0.8538\n",
      "Epoch 13/30\n",
      "2593/2593 [==============================] - 22s 8ms/sample - loss: 0.4039 - acc: 0.8527\n",
      "Epoch 14/30\n",
      "2593/2593 [==============================] - 23s 9ms/sample - loss: 0.3594 - acc: 0.8804\n",
      "Epoch 15/30\n",
      "2593/2593 [==============================] - 22s 9ms/sample - loss: 0.2824 - acc: 0.9101\n",
      "Epoch 16/30\n",
      "2593/2593 [==============================] - 22s 8ms/sample - loss: 0.2184 - acc: 0.9371\n",
      "Epoch 17/30\n",
      "2593/2593 [==============================] - 23s 9ms/sample - loss: 0.2131 - acc: 0.9360\n",
      "Epoch 18/30\n",
      "2593/2593 [==============================] - 23s 9ms/sample - loss: 0.1700 - acc: 0.9472\n",
      "Epoch 19/30\n",
      "2593/2593 [==============================] - 23s 9ms/sample - loss: 0.1159 - acc: 0.9715\n",
      "Epoch 20/30\n",
      "2593/2593 [==============================] - 23s 9ms/sample - loss: 0.1203 - acc: 0.9691\n",
      "Epoch 21/30\n",
      "2593/2593 [==============================] - 23s 9ms/sample - loss: 0.1246 - acc: 0.9618\n",
      "Epoch 22/30\n",
      "2593/2593 [==============================] - 22s 9ms/sample - loss: 0.0772 - acc: 0.9823\n",
      "Epoch 23/30\n",
      "2593/2593 [==============================] - 23s 9ms/sample - loss: 0.0476 - acc: 0.9931\n",
      "Epoch 24/30\n",
      "2593/2593 [==============================] - 23s 9ms/sample - loss: 0.0530 - acc: 0.9857\n",
      "Epoch 25/30\n",
      "2593/2593 [==============================] - 23s 9ms/sample - loss: 0.0432 - acc: 0.9915\n",
      "Epoch 26/30\n",
      "2593/2593 [==============================] - 23s 9ms/sample - loss: 0.0308 - acc: 0.9934\n",
      "Epoch 27/30\n",
      "2593/2593 [==============================] - 24s 9ms/sample - loss: 0.0295 - acc: 0.9946\n",
      "Epoch 28/30\n",
      "2593/2593 [==============================] - 23s 9ms/sample - loss: 0.0290 - acc: 0.9946\n",
      "Epoch 29/30\n",
      "2593/2593 [==============================] - 25s 10ms/sample - loss: 0.0521 - acc: 0.9869\n",
      "Epoch 30/30\n",
      "2593/2593 [==============================] - 26s 10ms/sample - loss: 0.0715 - acc: 0.9834\n"
     ]
    },
    {
     "data": {
      "text/plain": [
       "<tensorflow.python.keras.callbacks.History at 0x1b71836c2e8>"
      ]
     },
     "execution_count": 92,
     "metadata": {},
     "output_type": "execute_result"
    }
   ],
   "source": [
    "flower_classifier.fit(x_train,y_train,batch_size = 128,epochs = 30)\n"
   ]
  },
  {
   "cell_type": "code",
   "execution_count": 98,
   "metadata": {},
   "outputs": [
    {
     "data": {
      "text/plain": [
       "(64, 64, 3)"
      ]
     },
     "execution_count": 98,
     "metadata": {},
     "output_type": "execute_result"
    }
   ],
   "source": [
    "x_test[0].shape"
   ]
  },
  {
   "cell_type": "code",
   "execution_count": 100,
   "metadata": {
    "execution": {
     "iopub.execute_input": "2021-03-29T07:39:39.372790Z",
     "iopub.status.busy": "2021-03-29T07:39:39.372260Z",
     "iopub.status.idle": "2021-03-29T07:39:39.805455Z",
     "shell.execute_reply": "2021-03-29T07:39:39.806115Z"
    },
    "papermill": {
     "duration": 0.542393,
     "end_time": "2021-03-29T07:39:39.806275",
     "exception": false,
     "start_time": "2021-03-29T07:39:39.263882",
     "status": "completed"
    },
    "tags": []
   },
   "outputs": [
    {
     "data": {
      "text/plain": [
       "array([[9.4328582e-01, 3.7887939e-03, 1.0565560e-13, 1.0496362e-02,\n",
       "        1.4179018e-02, 2.8249836e-02],\n",
       "       [1.9493646e-05, 4.9267831e-01, 1.1285896e-15, 1.3537881e-04,\n",
       "        4.9423057e-01, 1.2936205e-02],\n",
       "       [3.9527723e-18, 3.0429860e-11, 8.6413299e-32, 1.1973372e-11,\n",
       "        6.9010198e-01, 3.0989796e-01],\n",
       "       ...,\n",
       "       [5.9589818e-09, 8.0899099e-08, 5.9346858e-24, 2.5567280e-07,\n",
       "        9.9823511e-01, 1.7645169e-03],\n",
       "       [2.3987184e-13, 3.5214073e-06, 3.9762854e-27, 5.6797969e-12,\n",
       "        9.2463923e-01, 7.5357206e-02],\n",
       "       [9.3609434e-01, 8.7455142e-04, 4.0099015e-18, 2.0367863e-06,\n",
       "        2.5245266e-02, 3.7783921e-02]], dtype=float32)"
      ]
     },
     "execution_count": 100,
     "metadata": {},
     "output_type": "execute_result"
    }
   ],
   "source": [
    "test_case = flower_classifier.predict(x_test)\n",
    "test_case"
   ]
  },
  {
   "cell_type": "code",
   "execution_count": 101,
   "metadata": {
    "execution": {
     "iopub.execute_input": "2021-03-29T07:39:40.022037Z",
     "iopub.status.busy": "2021-03-29T07:39:40.020171Z",
     "iopub.status.idle": "2021-03-29T07:39:40.022673Z",
     "shell.execute_reply": "2021-03-29T07:39:40.023158Z"
    },
    "papermill": {
     "duration": 0.110898,
     "end_time": "2021-03-29T07:39:40.023362",
     "exception": false,
     "start_time": "2021-03-29T07:39:39.912464",
     "status": "completed"
    },
    "tags": []
   },
   "outputs": [],
   "source": [
    "y_test_pred = np.argmax(test_case,axis = 1)"
   ]
  },
  {
   "cell_type": "code",
   "execution_count": 102,
   "metadata": {
    "execution": {
     "iopub.execute_input": "2021-03-29T07:39:40.236978Z",
     "iopub.status.busy": "2021-03-29T07:39:40.236353Z",
     "iopub.status.idle": "2021-03-29T07:39:40.241570Z",
     "shell.execute_reply": "2021-03-29T07:39:40.241131Z"
    },
    "papermill": {
     "duration": 0.112457,
     "end_time": "2021-03-29T07:39:40.241683",
     "exception": false,
     "start_time": "2021-03-29T07:39:40.129226",
     "status": "completed"
    },
    "tags": []
   },
   "outputs": [
    {
     "data": {
      "text/plain": [
       "array([0, 4, 4, ..., 4, 4, 0], dtype=int64)"
      ]
     },
     "execution_count": 102,
     "metadata": {},
     "output_type": "execute_result"
    }
   ],
   "source": [
    "y_test_pred"
   ]
  },
  {
   "cell_type": "code",
   "execution_count": 103,
   "metadata": {
    "execution": {
     "iopub.execute_input": "2021-03-29T07:39:40.455623Z",
     "iopub.status.busy": "2021-03-29T07:39:40.453201Z",
     "iopub.status.idle": "2021-03-29T07:39:40.470723Z",
     "shell.execute_reply": "2021-03-29T07:39:40.469523Z"
    },
    "papermill": {
     "duration": 0.126193,
     "end_time": "2021-03-29T07:39:40.470914",
     "exception": false,
     "start_time": "2021-03-29T07:39:40.344721",
     "status": "completed"
    },
    "tags": []
   },
   "outputs": [
    {
     "name": "stdout",
     "output_type": "stream",
     "text": [
      "actual 0 predicted 0\n",
      "actual 4 predicted 4\n",
      "actual 4 predicted 4\n",
      "actual 0 predicted 0\n",
      "actual 5 predicted 5\n",
      "actual 4 predicted 4\n",
      "actual 0 predicted 0\n",
      "actual 0 predicted 0\n",
      "actual 5 predicted 5\n",
      "actual 5 predicted 4\n",
      "actual 0 predicted 0\n",
      "actual 3 predicted 3\n",
      "actual 3 predicted 3\n",
      "actual 4 predicted 1\n",
      "actual 3 predicted 3\n",
      "actual 3 predicted 3\n",
      "actual 0 predicted 1\n",
      "actual 0 predicted 3\n",
      "actual 3 predicted 4\n",
      "actual 3 predicted 3\n",
      "actual 0 predicted 0\n",
      "actual 0 predicted 4\n",
      "actual 1 predicted 0\n",
      "actual 1 predicted 1\n",
      "actual 4 predicted 0\n",
      "actual 1 predicted 0\n",
      "actual 1 predicted 1\n",
      "actual 3 predicted 3\n",
      "actual 4 predicted 4\n",
      "actual 1 predicted 1\n",
      "actual 0 predicted 0\n",
      "actual 3 predicted 3\n",
      "actual 0 predicted 1\n",
      "actual 1 predicted 1\n",
      "actual 3 predicted 1\n",
      "actual 5 predicted 5\n",
      "actual 0 predicted 0\n",
      "actual 4 predicted 4\n",
      "actual 3 predicted 3\n",
      "actual 0 predicted 0\n",
      "actual 1 predicted 0\n",
      "actual 4 predicted 0\n",
      "actual 5 predicted 5\n",
      "actual 4 predicted 4\n",
      "actual 1 predicted 1\n",
      "actual 3 predicted 3\n",
      "actual 4 predicted 5\n",
      "actual 1 predicted 1\n",
      "actual 0 predicted 3\n",
      "actual 4 predicted 4\n"
     ]
    }
   ],
   "source": [
    "for i in range(50):\n",
    "    print(\"actual\",y_test[i],\"predicted\",y_test_pred[i])"
   ]
  },
  {
   "cell_type": "code",
   "execution_count": null,
   "metadata": {},
   "outputs": [],
   "source": []
  }
 ],
 "metadata": {
  "kernelspec": {
   "display_name": "Python 3",
   "language": "python",
   "name": "python3"
  },
  "language_info": {
   "codemirror_mode": {
    "name": "ipython",
    "version": 3
   },
   "file_extension": ".py",
   "mimetype": "text/x-python",
   "name": "python",
   "nbconvert_exporter": "python",
   "pygments_lexer": "ipython3",
   "version": "3.7.3"
  },
  "papermill": {
   "default_parameters": {},
   "duration": 64.732659,
   "end_time": "2021-03-29T07:39:43.025450",
   "environment_variables": {},
   "exception": null,
   "input_path": "__notebook__.ipynb",
   "output_path": "__notebook__.ipynb",
   "parameters": {},
   "start_time": "2021-03-29T07:38:38.292791",
   "version": "2.3.2"
  }
 },
 "nbformat": 4,
 "nbformat_minor": 5
}

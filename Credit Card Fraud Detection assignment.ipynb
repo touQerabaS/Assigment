{
 "cells": [
  {
   "cell_type": "markdown",
   "metadata": {},
   "source": [
    "# Credit Card Fraud Detection::"
   ]
  },
  {
   "cell_type": "markdown",
   "metadata": {},
   "source": [
    "# Description about dataset::"
   ]
  },
  {
   "cell_type": "markdown",
   "metadata": {},
   "source": [
    "The datasets contains transactions made by credit cards in September 2013 by european cardholders.\n",
    "This dataset presents transactions that occurred in two days, where we have 492 frauds out of 284,807 transactions. The dataset is highly unbalanced, the positive class (frauds) account for 0.172% of all transactions.\n",
    "\n",
    "It contains only numerical input variables which are the result of a PCA transformation. Unfortunately, due to confidentiality issues, we cannot provide the original features and more background information about the data. Features V1, V2, … V28 are the principal components obtained with PCA, the only features which have not been transformed with PCA are 'Time' and 'Amount'. Feature 'Time' contains the seconds elapsed between each transaction and the first transaction in the dataset. The feature 'Amount' is the transaction Amount, this feature can be used for example-dependant cost-senstive learning. \n",
    "\n",
    "\n",
    "### Feature 'Class' is the response variable and it takes value 1 in case of fraud and 0 otherwise."
   ]
  },
  {
   "cell_type": "markdown",
   "metadata": {},
   "source": [
    "# WORKFLOW :"
   ]
  },
  {
   "cell_type": "markdown",
   "metadata": {},
   "source": [
    "1.Load Data\n",
    "\n",
    "2.Check Missing Values ( If Exist ; Fill each record with mean of its feature )\n",
    "\n",
    "3.Standardized the Input Variables. \n",
    "\n",
    "4.Split into 50% Training(Samples,Labels) , 30% Test(Samples,Labels) and 20% Validation Data(Samples,Labels).\n",
    "\n",
    "5.Model : input Layer (No. of features ), 3 hidden layers including 10,8,6 unit & Output Layer with activation function relu/tanh (check by experiment).\n",
    "\n",
    "6.Compilation Step (Note : Its a Binary problem , select loss , metrics according to it)\n",
    "\n",
    "7.Train the Model with Epochs (100).\n",
    "\n",
    "8.If the model gets overfit tune your model by changing the units , No. of layers , epochs , add dropout layer or add Regularizer according to the need .\n",
    "\n",
    "9.Prediction should be > 92%\n",
    "10.Evaluation Step\n",
    "11Prediction\n"
   ]
  },
  {
   "cell_type": "markdown",
   "metadata": {},
   "source": [
    "# Task::"
   ]
  },
  {
   "cell_type": "markdown",
   "metadata": {},
   "source": [
    "## Identify fraudulent credit card transactions."
   ]
  },
  {
   "cell_type": "code",
   "execution_count": 1,
   "metadata": {},
   "outputs": [],
   "source": [
    "import pandas as pd\n",
    "import numpy as np\n",
    "import keras"
   ]
  },
  {
   "cell_type": "code",
   "execution_count": 2,
   "metadata": {},
   "outputs": [],
   "source": [
    "df = pd.read_csv('../input/creditcardfraud/creditcard.csv')"
   ]
  },
  {
   "cell_type": "code",
   "execution_count": 3,
   "metadata": {},
   "outputs": [
    {
     "data": {
      "text/html": [
       "<div>\n",
       "<style scoped>\n",
       "    .dataframe tbody tr th:only-of-type {\n",
       "        vertical-align: middle;\n",
       "    }\n",
       "\n",
       "    .dataframe tbody tr th {\n",
       "        vertical-align: top;\n",
       "    }\n",
       "\n",
       "    .dataframe thead th {\n",
       "        text-align: right;\n",
       "    }\n",
       "</style>\n",
       "<table border=\"1\" class=\"dataframe\">\n",
       "  <thead>\n",
       "    <tr style=\"text-align: right;\">\n",
       "      <th></th>\n",
       "      <th>Time</th>\n",
       "      <th>V1</th>\n",
       "      <th>V2</th>\n",
       "      <th>V3</th>\n",
       "      <th>V4</th>\n",
       "      <th>V5</th>\n",
       "      <th>V6</th>\n",
       "      <th>V7</th>\n",
       "      <th>V8</th>\n",
       "      <th>V9</th>\n",
       "      <th>V10</th>\n",
       "      <th>V11</th>\n",
       "      <th>V12</th>\n",
       "      <th>V13</th>\n",
       "      <th>V14</th>\n",
       "      <th>V15</th>\n",
       "      <th>V16</th>\n",
       "      <th>V17</th>\n",
       "      <th>V18</th>\n",
       "      <th>V19</th>\n",
       "      <th>V20</th>\n",
       "      <th>V21</th>\n",
       "      <th>V22</th>\n",
       "      <th>V23</th>\n",
       "      <th>V24</th>\n",
       "      <th>V25</th>\n",
       "      <th>V26</th>\n",
       "      <th>V27</th>\n",
       "      <th>V28</th>\n",
       "      <th>Amount</th>\n",
       "      <th>Class</th>\n",
       "    </tr>\n",
       "  </thead>\n",
       "  <tbody>\n",
       "    <tr>\n",
       "      <th>0</th>\n",
       "      <td>0.0</td>\n",
       "      <td>-1.359807</td>\n",
       "      <td>-0.072781</td>\n",
       "      <td>2.536347</td>\n",
       "      <td>1.378155</td>\n",
       "      <td>-0.338321</td>\n",
       "      <td>0.462388</td>\n",
       "      <td>0.239599</td>\n",
       "      <td>0.098698</td>\n",
       "      <td>0.363787</td>\n",
       "      <td>0.090794</td>\n",
       "      <td>-0.551600</td>\n",
       "      <td>-0.617801</td>\n",
       "      <td>-0.991390</td>\n",
       "      <td>-0.311169</td>\n",
       "      <td>1.468177</td>\n",
       "      <td>-0.470401</td>\n",
       "      <td>0.207971</td>\n",
       "      <td>0.025791</td>\n",
       "      <td>0.403993</td>\n",
       "      <td>0.251412</td>\n",
       "      <td>-0.018307</td>\n",
       "      <td>0.277838</td>\n",
       "      <td>-0.110474</td>\n",
       "      <td>0.066928</td>\n",
       "      <td>0.128539</td>\n",
       "      <td>-0.189115</td>\n",
       "      <td>0.133558</td>\n",
       "      <td>-0.021053</td>\n",
       "      <td>149.62</td>\n",
       "      <td>0</td>\n",
       "    </tr>\n",
       "    <tr>\n",
       "      <th>1</th>\n",
       "      <td>0.0</td>\n",
       "      <td>1.191857</td>\n",
       "      <td>0.266151</td>\n",
       "      <td>0.166480</td>\n",
       "      <td>0.448154</td>\n",
       "      <td>0.060018</td>\n",
       "      <td>-0.082361</td>\n",
       "      <td>-0.078803</td>\n",
       "      <td>0.085102</td>\n",
       "      <td>-0.255425</td>\n",
       "      <td>-0.166974</td>\n",
       "      <td>1.612727</td>\n",
       "      <td>1.065235</td>\n",
       "      <td>0.489095</td>\n",
       "      <td>-0.143772</td>\n",
       "      <td>0.635558</td>\n",
       "      <td>0.463917</td>\n",
       "      <td>-0.114805</td>\n",
       "      <td>-0.183361</td>\n",
       "      <td>-0.145783</td>\n",
       "      <td>-0.069083</td>\n",
       "      <td>-0.225775</td>\n",
       "      <td>-0.638672</td>\n",
       "      <td>0.101288</td>\n",
       "      <td>-0.339846</td>\n",
       "      <td>0.167170</td>\n",
       "      <td>0.125895</td>\n",
       "      <td>-0.008983</td>\n",
       "      <td>0.014724</td>\n",
       "      <td>2.69</td>\n",
       "      <td>0</td>\n",
       "    </tr>\n",
       "    <tr>\n",
       "      <th>2</th>\n",
       "      <td>1.0</td>\n",
       "      <td>-1.358354</td>\n",
       "      <td>-1.340163</td>\n",
       "      <td>1.773209</td>\n",
       "      <td>0.379780</td>\n",
       "      <td>-0.503198</td>\n",
       "      <td>1.800499</td>\n",
       "      <td>0.791461</td>\n",
       "      <td>0.247676</td>\n",
       "      <td>-1.514654</td>\n",
       "      <td>0.207643</td>\n",
       "      <td>0.624501</td>\n",
       "      <td>0.066084</td>\n",
       "      <td>0.717293</td>\n",
       "      <td>-0.165946</td>\n",
       "      <td>2.345865</td>\n",
       "      <td>-2.890083</td>\n",
       "      <td>1.109969</td>\n",
       "      <td>-0.121359</td>\n",
       "      <td>-2.261857</td>\n",
       "      <td>0.524980</td>\n",
       "      <td>0.247998</td>\n",
       "      <td>0.771679</td>\n",
       "      <td>0.909412</td>\n",
       "      <td>-0.689281</td>\n",
       "      <td>-0.327642</td>\n",
       "      <td>-0.139097</td>\n",
       "      <td>-0.055353</td>\n",
       "      <td>-0.059752</td>\n",
       "      <td>378.66</td>\n",
       "      <td>0</td>\n",
       "    </tr>\n",
       "    <tr>\n",
       "      <th>3</th>\n",
       "      <td>1.0</td>\n",
       "      <td>-0.966272</td>\n",
       "      <td>-0.185226</td>\n",
       "      <td>1.792993</td>\n",
       "      <td>-0.863291</td>\n",
       "      <td>-0.010309</td>\n",
       "      <td>1.247203</td>\n",
       "      <td>0.237609</td>\n",
       "      <td>0.377436</td>\n",
       "      <td>-1.387024</td>\n",
       "      <td>-0.054952</td>\n",
       "      <td>-0.226487</td>\n",
       "      <td>0.178228</td>\n",
       "      <td>0.507757</td>\n",
       "      <td>-0.287924</td>\n",
       "      <td>-0.631418</td>\n",
       "      <td>-1.059647</td>\n",
       "      <td>-0.684093</td>\n",
       "      <td>1.965775</td>\n",
       "      <td>-1.232622</td>\n",
       "      <td>-0.208038</td>\n",
       "      <td>-0.108300</td>\n",
       "      <td>0.005274</td>\n",
       "      <td>-0.190321</td>\n",
       "      <td>-1.175575</td>\n",
       "      <td>0.647376</td>\n",
       "      <td>-0.221929</td>\n",
       "      <td>0.062723</td>\n",
       "      <td>0.061458</td>\n",
       "      <td>123.50</td>\n",
       "      <td>0</td>\n",
       "    </tr>\n",
       "    <tr>\n",
       "      <th>4</th>\n",
       "      <td>2.0</td>\n",
       "      <td>-1.158233</td>\n",
       "      <td>0.877737</td>\n",
       "      <td>1.548718</td>\n",
       "      <td>0.403034</td>\n",
       "      <td>-0.407193</td>\n",
       "      <td>0.095921</td>\n",
       "      <td>0.592941</td>\n",
       "      <td>-0.270533</td>\n",
       "      <td>0.817739</td>\n",
       "      <td>0.753074</td>\n",
       "      <td>-0.822843</td>\n",
       "      <td>0.538196</td>\n",
       "      <td>1.345852</td>\n",
       "      <td>-1.119670</td>\n",
       "      <td>0.175121</td>\n",
       "      <td>-0.451449</td>\n",
       "      <td>-0.237033</td>\n",
       "      <td>-0.038195</td>\n",
       "      <td>0.803487</td>\n",
       "      <td>0.408542</td>\n",
       "      <td>-0.009431</td>\n",
       "      <td>0.798278</td>\n",
       "      <td>-0.137458</td>\n",
       "      <td>0.141267</td>\n",
       "      <td>-0.206010</td>\n",
       "      <td>0.502292</td>\n",
       "      <td>0.219422</td>\n",
       "      <td>0.215153</td>\n",
       "      <td>69.99</td>\n",
       "      <td>0</td>\n",
       "    </tr>\n",
       "  </tbody>\n",
       "</table>\n",
       "</div>"
      ],
      "text/plain": [
       "   Time        V1        V2        V3        V4        V5        V6        V7  \\\n",
       "0   0.0 -1.359807 -0.072781  2.536347  1.378155 -0.338321  0.462388  0.239599   \n",
       "1   0.0  1.191857  0.266151  0.166480  0.448154  0.060018 -0.082361 -0.078803   \n",
       "2   1.0 -1.358354 -1.340163  1.773209  0.379780 -0.503198  1.800499  0.791461   \n",
       "3   1.0 -0.966272 -0.185226  1.792993 -0.863291 -0.010309  1.247203  0.237609   \n",
       "4   2.0 -1.158233  0.877737  1.548718  0.403034 -0.407193  0.095921  0.592941   \n",
       "\n",
       "         V8        V9       V10       V11       V12       V13       V14  \\\n",
       "0  0.098698  0.363787  0.090794 -0.551600 -0.617801 -0.991390 -0.311169   \n",
       "1  0.085102 -0.255425 -0.166974  1.612727  1.065235  0.489095 -0.143772   \n",
       "2  0.247676 -1.514654  0.207643  0.624501  0.066084  0.717293 -0.165946   \n",
       "3  0.377436 -1.387024 -0.054952 -0.226487  0.178228  0.507757 -0.287924   \n",
       "4 -0.270533  0.817739  0.753074 -0.822843  0.538196  1.345852 -1.119670   \n",
       "\n",
       "        V15       V16       V17       V18       V19       V20       V21  \\\n",
       "0  1.468177 -0.470401  0.207971  0.025791  0.403993  0.251412 -0.018307   \n",
       "1  0.635558  0.463917 -0.114805 -0.183361 -0.145783 -0.069083 -0.225775   \n",
       "2  2.345865 -2.890083  1.109969 -0.121359 -2.261857  0.524980  0.247998   \n",
       "3 -0.631418 -1.059647 -0.684093  1.965775 -1.232622 -0.208038 -0.108300   \n",
       "4  0.175121 -0.451449 -0.237033 -0.038195  0.803487  0.408542 -0.009431   \n",
       "\n",
       "        V22       V23       V24       V25       V26       V27       V28  \\\n",
       "0  0.277838 -0.110474  0.066928  0.128539 -0.189115  0.133558 -0.021053   \n",
       "1 -0.638672  0.101288 -0.339846  0.167170  0.125895 -0.008983  0.014724   \n",
       "2  0.771679  0.909412 -0.689281 -0.327642 -0.139097 -0.055353 -0.059752   \n",
       "3  0.005274 -0.190321 -1.175575  0.647376 -0.221929  0.062723  0.061458   \n",
       "4  0.798278 -0.137458  0.141267 -0.206010  0.502292  0.219422  0.215153   \n",
       "\n",
       "   Amount  Class  \n",
       "0  149.62      0  \n",
       "1    2.69      0  \n",
       "2  378.66      0  \n",
       "3  123.50      0  \n",
       "4   69.99      0  "
      ]
     },
     "execution_count": 3,
     "metadata": {},
     "output_type": "execute_result"
    }
   ],
   "source": [
    "df.head()"
   ]
  },
  {
   "cell_type": "code",
   "execution_count": 4,
   "metadata": {},
   "outputs": [
    {
     "data": {
      "text/plain": [
       "(284807, 31)"
      ]
     },
     "execution_count": 4,
     "metadata": {},
     "output_type": "execute_result"
    }
   ],
   "source": [
    "df.shape"
   ]
  },
  {
   "cell_type": "markdown",
   "metadata": {},
   "source": [
    "# Checking Missing Values"
   ]
  },
  {
   "cell_type": "code",
   "execution_count": 5,
   "metadata": {},
   "outputs": [
    {
     "data": {
      "text/plain": [
       "Time      0\n",
       "V1        0\n",
       "V2        0\n",
       "V3        0\n",
       "V4        0\n",
       "V5        0\n",
       "V6        0\n",
       "V7        0\n",
       "V8        0\n",
       "V9        0\n",
       "V10       0\n",
       "V11       0\n",
       "V12       0\n",
       "V13       0\n",
       "V14       0\n",
       "V15       0\n",
       "V16       0\n",
       "V17       0\n",
       "V18       0\n",
       "V19       0\n",
       "V20       0\n",
       "V21       0\n",
       "V22       0\n",
       "V23       0\n",
       "V24       0\n",
       "V25       0\n",
       "V26       0\n",
       "V27       0\n",
       "V28       0\n",
       "Amount    0\n",
       "Class     0\n",
       "dtype: int64"
      ]
     },
     "execution_count": 5,
     "metadata": {},
     "output_type": "execute_result"
    }
   ],
   "source": [
    "df.isnull().sum()"
   ]
  },
  {
   "cell_type": "code",
   "execution_count": 6,
   "metadata": {},
   "outputs": [
    {
     "name": "stdout",
     "output_type": "stream",
     "text": [
      "<class 'pandas.core.frame.DataFrame'>\n",
      "RangeIndex: 284807 entries, 0 to 284806\n",
      "Data columns (total 31 columns):\n",
      " #   Column  Non-Null Count   Dtype  \n",
      "---  ------  --------------   -----  \n",
      " 0   Time    284807 non-null  float64\n",
      " 1   V1      284807 non-null  float64\n",
      " 2   V2      284807 non-null  float64\n",
      " 3   V3      284807 non-null  float64\n",
      " 4   V4      284807 non-null  float64\n",
      " 5   V5      284807 non-null  float64\n",
      " 6   V6      284807 non-null  float64\n",
      " 7   V7      284807 non-null  float64\n",
      " 8   V8      284807 non-null  float64\n",
      " 9   V9      284807 non-null  float64\n",
      " 10  V10     284807 non-null  float64\n",
      " 11  V11     284807 non-null  float64\n",
      " 12  V12     284807 non-null  float64\n",
      " 13  V13     284807 non-null  float64\n",
      " 14  V14     284807 non-null  float64\n",
      " 15  V15     284807 non-null  float64\n",
      " 16  V16     284807 non-null  float64\n",
      " 17  V17     284807 non-null  float64\n",
      " 18  V18     284807 non-null  float64\n",
      " 19  V19     284807 non-null  float64\n",
      " 20  V20     284807 non-null  float64\n",
      " 21  V21     284807 non-null  float64\n",
      " 22  V22     284807 non-null  float64\n",
      " 23  V23     284807 non-null  float64\n",
      " 24  V24     284807 non-null  float64\n",
      " 25  V25     284807 non-null  float64\n",
      " 26  V26     284807 non-null  float64\n",
      " 27  V27     284807 non-null  float64\n",
      " 28  V28     284807 non-null  float64\n",
      " 29  Amount  284807 non-null  float64\n",
      " 30  Class   284807 non-null  int64  \n",
      "dtypes: float64(30), int64(1)\n",
      "memory usage: 67.4 MB\n"
     ]
    }
   ],
   "source": [
    "df.info()"
   ]
  },
  {
   "cell_type": "markdown",
   "metadata": {},
   "source": [
    "# Splitting Data"
   ]
  },
  {
   "cell_type": "code",
   "execution_count": 7,
   "metadata": {},
   "outputs": [],
   "source": [
    "data = df.iloc[:, :-1]\n",
    "targets = df.iloc[:,-1]"
   ]
  },
  {
   "cell_type": "code",
   "execution_count": 8,
   "metadata": {},
   "outputs": [
    {
     "name": "stdout",
     "output_type": "stream",
     "text": [
      "(284807, 30)\n",
      "(284807,)\n"
     ]
    }
   ],
   "source": [
    "print(data.shape)\n",
    "print(targets.shape)"
   ]
  },
  {
   "cell_type": "code",
   "execution_count": 9,
   "metadata": {},
   "outputs": [],
   "source": [
    "from sklearn.model_selection import train_test_split"
   ]
  },
  {
   "cell_type": "markdown",
   "metadata": {},
   "source": [
    "### data Spliting"
   ]
  },
  {
   "cell_type": "code",
   "execution_count": 10,
   "metadata": {},
   "outputs": [],
   "source": [
    "train_data, test_data, train_targets, test_targets = train_test_split(data, targets, test_size=.3)"
   ]
  },
  {
   "cell_type": "code",
   "execution_count": 11,
   "metadata": {},
   "outputs": [],
   "source": [
    "train_data, validation_data, train_targets, validation_targets = train_test_split(train_data, train_targets, test_size=.2)"
   ]
  },
  {
   "cell_type": "markdown",
   "metadata": {},
   "source": [
    "# Standardizing Data"
   ]
  },
  {
   "cell_type": "code",
   "execution_count": 12,
   "metadata": {},
   "outputs": [],
   "source": [
    "mean = np.mean(train_data)\n",
    "std = np.std(train_data)\n",
    "\n",
    "\n",
    "train_data -= mean\n",
    "train_data /= std\n",
    "\n",
    "validation_data -= mean\n",
    "validation_data /= std\n",
    "\n",
    "test_data -= mean\n",
    "test_data /= std"
   ]
  },
  {
   "cell_type": "markdown",
   "metadata": {},
   "source": [
    "# Model : input Layer (No. of features ), 3 hidden layers including 10,8,6 unit & Output Layer with activation function relu/tanh (check by experiment)."
   ]
  },
  {
   "cell_type": "code",
   "execution_count": 13,
   "metadata": {},
   "outputs": [],
   "source": [
    "from keras import models, layers"
   ]
  },
  {
   "cell_type": "code",
   "execution_count": 14,
   "metadata": {},
   "outputs": [],
   "source": [
    "model = models.Sequential()\n",
    "\n",
    "model.add(layers.Dense(10, input_shape=(train_data.shape[1],), activation='relu'))\n",
    "\n",
    "model.add(layers.Dense(8, activation='relu'))\n",
    "\n",
    "model.add(layers.Dense(6, activation='relu'))\n",
    "\n",
    "model.add(layers.Dense(1, activation='sigmoid'))"
   ]
  },
  {
   "cell_type": "markdown",
   "metadata": {},
   "source": [
    "# Compilation Step"
   ]
  },
  {
   "cell_type": "code",
   "execution_count": 15,
   "metadata": {},
   "outputs": [],
   "source": [
    "model.compile(optimizer='rmsprop', loss='binary_crossentropy', metrics=['accuracy'])"
   ]
  },
  {
   "cell_type": "markdown",
   "metadata": {},
   "source": [
    "# Training the model"
   ]
  },
  {
   "cell_type": "code",
   "execution_count": 16,
   "metadata": {},
   "outputs": [
    {
     "name": "stdout",
     "output_type": "stream",
     "text": [
      "Epoch 1/100\n",
      "4985/4985 [==============================] - 25s 5ms/step - loss: 0.0430 - accuracy: 0.9986 - val_loss: 0.0066 - val_accuracy: 0.9994\n",
      "Epoch 2/100\n",
      "4985/4985 [==============================] - 7s 1ms/step - loss: 0.0109 - accuracy: 0.9992 - val_loss: 0.0073 - val_accuracy: 0.9994\n",
      "Epoch 3/100\n",
      "4985/4985 [==============================] - 7s 1ms/step - loss: 0.0061 - accuracy: 0.9996 - val_loss: 0.0070 - val_accuracy: 0.9994\n",
      "Epoch 4/100\n",
      "4985/4985 [==============================] - 7s 1ms/step - loss: 0.0076 - accuracy: 0.9993 - val_loss: 0.0062 - val_accuracy: 0.9994\n",
      "Epoch 5/100\n",
      "4985/4985 [==============================] - 7s 1ms/step - loss: 0.0067 - accuracy: 0.9995 - val_loss: 0.0053 - val_accuracy: 0.9994\n",
      "Epoch 6/100\n",
      "4985/4985 [==============================] - 7s 1ms/step - loss: 0.0064 - accuracy: 0.9994 - val_loss: 0.0055 - val_accuracy: 0.9994\n",
      "Epoch 7/100\n",
      "4985/4985 [==============================] - 7s 1ms/step - loss: 0.0078 - accuracy: 0.9994 - val_loss: 0.0051 - val_accuracy: 0.9995\n",
      "Epoch 8/100\n",
      "4985/4985 [==============================] - 7s 1ms/step - loss: 0.0067 - accuracy: 0.9994 - val_loss: 0.0042 - val_accuracy: 0.9994\n",
      "Epoch 9/100\n",
      "4985/4985 [==============================] - 7s 1ms/step - loss: 0.0061 - accuracy: 0.9995 - val_loss: 0.0040 - val_accuracy: 0.9995\n",
      "Epoch 10/100\n",
      "4985/4985 [==============================] - 7s 1ms/step - loss: 0.0068 - accuracy: 0.9993 - val_loss: 0.0053 - val_accuracy: 0.9994\n",
      "Epoch 11/100\n",
      "4985/4985 [==============================] - 7s 1ms/step - loss: 0.0061 - accuracy: 0.9995 - val_loss: 0.0038 - val_accuracy: 0.9995\n",
      "Epoch 12/100\n",
      "4985/4985 [==============================] - 7s 1ms/step - loss: 0.0054 - accuracy: 0.9995 - val_loss: 0.0040 - val_accuracy: 0.9995\n",
      "Epoch 13/100\n",
      "4985/4985 [==============================] - 7s 1ms/step - loss: 0.0062 - accuracy: 0.9995 - val_loss: 0.0037 - val_accuracy: 0.9994\n",
      "Epoch 14/100\n",
      "4985/4985 [==============================] - 7s 1ms/step - loss: 0.0059 - accuracy: 0.9995 - val_loss: 0.0046 - val_accuracy: 0.9994\n",
      "Epoch 15/100\n",
      "4985/4985 [==============================] - 7s 1ms/step - loss: 0.0064 - accuracy: 0.9994 - val_loss: 0.0041 - val_accuracy: 0.9994\n",
      "Epoch 16/100\n",
      "4985/4985 [==============================] - 7s 1ms/step - loss: 0.0057 - accuracy: 0.9994 - val_loss: 0.0040 - val_accuracy: 0.9994\n",
      "Epoch 17/100\n",
      "4985/4985 [==============================] - 7s 1ms/step - loss: 0.0062 - accuracy: 0.9994 - val_loss: 0.0042 - val_accuracy: 0.9994\n",
      "Epoch 18/100\n",
      "4985/4985 [==============================] - 7s 1ms/step - loss: 0.0061 - accuracy: 0.9995 - val_loss: 0.0059 - val_accuracy: 0.9995\n",
      "Epoch 19/100\n",
      "4985/4985 [==============================] - 7s 1ms/step - loss: 0.0054 - accuracy: 0.9995 - val_loss: 0.0036 - val_accuracy: 0.9994\n",
      "Epoch 20/100\n",
      "4985/4985 [==============================] - 7s 1ms/step - loss: 0.0056 - accuracy: 0.9994 - val_loss: 0.0041 - val_accuracy: 0.9994\n",
      "Epoch 21/100\n",
      "4985/4985 [==============================] - 7s 1ms/step - loss: 0.0065 - accuracy: 0.9994 - val_loss: 0.0041 - val_accuracy: 0.9993\n",
      "Epoch 22/100\n",
      "4985/4985 [==============================] - 7s 1ms/step - loss: 0.0068 - accuracy: 0.9994 - val_loss: 0.0040 - val_accuracy: 0.9994\n",
      "Epoch 23/100\n",
      "4985/4985 [==============================] - 7s 1ms/step - loss: 0.0059 - accuracy: 0.9994 - val_loss: 0.0041 - val_accuracy: 0.9995\n",
      "Epoch 24/100\n",
      "4985/4985 [==============================] - 7s 1ms/step - loss: 0.0058 - accuracy: 0.9994 - val_loss: 0.0041 - val_accuracy: 0.9994\n",
      "Epoch 25/100\n",
      "4985/4985 [==============================] - 7s 1ms/step - loss: 0.0063 - accuracy: 0.9994 - val_loss: 0.0045 - val_accuracy: 0.9994\n",
      "Epoch 26/100\n",
      "4985/4985 [==============================] - 7s 1ms/step - loss: 0.0062 - accuracy: 0.9993 - val_loss: 0.0060 - val_accuracy: 0.9994\n",
      "Epoch 27/100\n",
      "4985/4985 [==============================] - 7s 1ms/step - loss: 0.0073 - accuracy: 0.9994 - val_loss: 0.0039 - val_accuracy: 0.9994\n",
      "Epoch 28/100\n",
      "4985/4985 [==============================] - 7s 1ms/step - loss: 0.0063 - accuracy: 0.9994 - val_loss: 0.0043 - val_accuracy: 0.9995\n",
      "Epoch 29/100\n",
      "4985/4985 [==============================] - 7s 1ms/step - loss: 0.0063 - accuracy: 0.9994 - val_loss: 0.0043 - val_accuracy: 0.9995\n",
      "Epoch 30/100\n",
      "4985/4985 [==============================] - 7s 1ms/step - loss: 0.0054 - accuracy: 0.9995 - val_loss: 0.0043 - val_accuracy: 0.9995\n",
      "Epoch 31/100\n",
      "4985/4985 [==============================] - 7s 1ms/step - loss: 0.0064 - accuracy: 0.9995 - val_loss: 0.0058 - val_accuracy: 0.9995\n",
      "Epoch 32/100\n",
      "4985/4985 [==============================] - 7s 1ms/step - loss: 0.0053 - accuracy: 0.9995 - val_loss: 0.0047 - val_accuracy: 0.9995\n",
      "Epoch 33/100\n",
      "4985/4985 [==============================] - 7s 1ms/step - loss: 0.0061 - accuracy: 0.9994 - val_loss: 0.0065 - val_accuracy: 0.9995\n",
      "Epoch 34/100\n",
      "4985/4985 [==============================] - 7s 1ms/step - loss: 0.0071 - accuracy: 0.9994 - val_loss: 0.0066 - val_accuracy: 0.9995\n",
      "Epoch 35/100\n",
      "4985/4985 [==============================] - 7s 1ms/step - loss: 0.0064 - accuracy: 0.9994 - val_loss: 0.0052 - val_accuracy: 0.9995\n",
      "Epoch 36/100\n",
      "4985/4985 [==============================] - 7s 1ms/step - loss: 0.0060 - accuracy: 0.9995 - val_loss: 0.0050 - val_accuracy: 0.9995\n",
      "Epoch 37/100\n",
      "4985/4985 [==============================] - 7s 1ms/step - loss: 0.0056 - accuracy: 0.9995 - val_loss: 0.0046 - val_accuracy: 0.9993\n",
      "Epoch 38/100\n",
      "4985/4985 [==============================] - 7s 1ms/step - loss: 0.0076 - accuracy: 0.9993 - val_loss: 0.0061 - val_accuracy: 0.9995\n",
      "Epoch 39/100\n",
      "4985/4985 [==============================] - 7s 1ms/step - loss: 0.0073 - accuracy: 0.9993 - val_loss: 0.0045 - val_accuracy: 0.9994\n",
      "Epoch 40/100\n",
      "4985/4985 [==============================] - 7s 1ms/step - loss: 0.0065 - accuracy: 0.9994 - val_loss: 0.0059 - val_accuracy: 0.9994\n",
      "Epoch 41/100\n",
      "4985/4985 [==============================] - 7s 1ms/step - loss: 0.0056 - accuracy: 0.9995 - val_loss: 0.0041 - val_accuracy: 0.9994\n",
      "Epoch 42/100\n",
      "4985/4985 [==============================] - 7s 1ms/step - loss: 0.0067 - accuracy: 0.9995 - val_loss: 0.0038 - val_accuracy: 0.9994\n",
      "Epoch 43/100\n",
      "4985/4985 [==============================] - 7s 1ms/step - loss: 0.0062 - accuracy: 0.9995 - val_loss: 0.0039 - val_accuracy: 0.9994\n",
      "Epoch 44/100\n",
      "4985/4985 [==============================] - 7s 1ms/step - loss: 0.0064 - accuracy: 0.9994 - val_loss: 0.0049 - val_accuracy: 0.9994\n",
      "Epoch 45/100\n",
      "4985/4985 [==============================] - 7s 1ms/step - loss: 0.0061 - accuracy: 0.9994 - val_loss: 0.0049 - val_accuracy: 0.9995\n",
      "Epoch 46/100\n",
      "4985/4985 [==============================] - 7s 1ms/step - loss: 0.0073 - accuracy: 0.9993 - val_loss: 0.0059 - val_accuracy: 0.9994\n",
      "Epoch 47/100\n",
      "4985/4985 [==============================] - 7s 1ms/step - loss: 0.0070 - accuracy: 0.9994 - val_loss: 0.0074 - val_accuracy: 0.9994\n",
      "Epoch 48/100\n",
      "4985/4985 [==============================] - 7s 1ms/step - loss: 0.0089 - accuracy: 0.9994 - val_loss: 0.0061 - val_accuracy: 0.9995\n",
      "Epoch 49/100\n",
      "4985/4985 [==============================] - 7s 1ms/step - loss: 0.0073 - accuracy: 0.9995 - val_loss: 0.0058 - val_accuracy: 0.9995\n",
      "Epoch 50/100\n",
      "4985/4985 [==============================] - 7s 1ms/step - loss: 0.0069 - accuracy: 0.9995 - val_loss: 0.0052 - val_accuracy: 0.9995\n",
      "Epoch 51/100\n",
      "4985/4985 [==============================] - 7s 1ms/step - loss: 0.0085 - accuracy: 0.9993 - val_loss: 0.0045 - val_accuracy: 0.9995\n",
      "Epoch 52/100\n",
      "4985/4985 [==============================] - 7s 1ms/step - loss: 0.0067 - accuracy: 0.9995 - val_loss: 0.0072 - val_accuracy: 0.9995\n",
      "Epoch 53/100\n",
      "4985/4985 [==============================] - 7s 1ms/step - loss: 0.0075 - accuracy: 0.9993 - val_loss: 0.0044 - val_accuracy: 0.9995\n",
      "Epoch 54/100\n",
      "4985/4985 [==============================] - 7s 1ms/step - loss: 0.0073 - accuracy: 0.9993 - val_loss: 0.0073 - val_accuracy: 0.9995\n",
      "Epoch 55/100\n",
      "4985/4985 [==============================] - 7s 1ms/step - loss: 0.0070 - accuracy: 0.9994 - val_loss: 0.0054 - val_accuracy: 0.9995\n",
      "Epoch 56/100\n",
      "4985/4985 [==============================] - 7s 1ms/step - loss: 0.0075 - accuracy: 0.9992 - val_loss: 0.0059 - val_accuracy: 0.9995\n",
      "Epoch 57/100\n",
      "4985/4985 [==============================] - 7s 1ms/step - loss: 0.0059 - accuracy: 0.9995 - val_loss: 0.0074 - val_accuracy: 0.9994\n",
      "Epoch 58/100\n",
      "4985/4985 [==============================] - 7s 1ms/step - loss: 0.0075 - accuracy: 0.9994 - val_loss: 0.0052 - val_accuracy: 0.9994\n",
      "Epoch 59/100\n",
      "4985/4985 [==============================] - 7s 1ms/step - loss: 0.0055 - accuracy: 0.9994 - val_loss: 0.0061 - val_accuracy: 0.9995\n",
      "Epoch 60/100\n",
      "4985/4985 [==============================] - 7s 1ms/step - loss: 0.0067 - accuracy: 0.9994 - val_loss: 0.0069 - val_accuracy: 0.9994\n",
      "Epoch 61/100\n",
      "4985/4985 [==============================] - 7s 1ms/step - loss: 0.0078 - accuracy: 0.9993 - val_loss: 0.0063 - val_accuracy: 0.9995\n",
      "Epoch 62/100\n",
      "4985/4985 [==============================] - 7s 1ms/step - loss: 0.0067 - accuracy: 0.9993 - val_loss: 0.0092 - val_accuracy: 0.9994\n",
      "Epoch 63/100\n",
      "4985/4985 [==============================] - 7s 1ms/step - loss: 0.0068 - accuracy: 0.9995 - val_loss: 0.0065 - val_accuracy: 0.9994\n",
      "Epoch 64/100\n",
      "4985/4985 [==============================] - 7s 1ms/step - loss: 0.0065 - accuracy: 0.9994 - val_loss: 0.0057 - val_accuracy: 0.9994\n",
      "Epoch 65/100\n",
      "4985/4985 [==============================] - 7s 1ms/step - loss: 0.0067 - accuracy: 0.9994 - val_loss: 0.0041 - val_accuracy: 0.9994\n",
      "Epoch 66/100\n",
      "4985/4985 [==============================] - 7s 1ms/step - loss: 0.0063 - accuracy: 0.9994 - val_loss: 0.0057 - val_accuracy: 0.9995\n",
      "Epoch 67/100\n",
      "4985/4985 [==============================] - 7s 1ms/step - loss: 0.0066 - accuracy: 0.9994 - val_loss: 0.0082 - val_accuracy: 0.9994\n",
      "Epoch 68/100\n",
      "4985/4985 [==============================] - 7s 1ms/step - loss: 0.0064 - accuracy: 0.9994 - val_loss: 0.0062 - val_accuracy: 0.9995\n",
      "Epoch 69/100\n",
      "4985/4985 [==============================] - 7s 1ms/step - loss: 0.0074 - accuracy: 0.9994 - val_loss: 0.0053 - val_accuracy: 0.9991\n",
      "Epoch 70/100\n",
      "4985/4985 [==============================] - 7s 1ms/step - loss: 0.0070 - accuracy: 0.9994 - val_loss: 0.0061 - val_accuracy: 0.9994\n",
      "Epoch 71/100\n",
      "4985/4985 [==============================] - 7s 1ms/step - loss: 0.0059 - accuracy: 0.9994 - val_loss: 0.0049 - val_accuracy: 0.9994\n",
      "Epoch 72/100\n",
      "4985/4985 [==============================] - 7s 1ms/step - loss: 0.0074 - accuracy: 0.9994 - val_loss: 0.0053 - val_accuracy: 0.9993\n",
      "Epoch 73/100\n",
      "4985/4985 [==============================] - 7s 1ms/step - loss: 0.0075 - accuracy: 0.9993 - val_loss: 0.0066 - val_accuracy: 0.9994\n",
      "Epoch 74/100\n",
      "4985/4985 [==============================] - 7s 1ms/step - loss: 0.0083 - accuracy: 0.9994 - val_loss: 0.0078 - val_accuracy: 0.9995\n",
      "Epoch 75/100\n",
      "4985/4985 [==============================] - 7s 1ms/step - loss: 0.0059 - accuracy: 0.9995 - val_loss: 0.0056 - val_accuracy: 0.9994\n",
      "Epoch 76/100\n",
      "4985/4985 [==============================] - 7s 1ms/step - loss: 0.0069 - accuracy: 0.9994 - val_loss: 0.0059 - val_accuracy: 0.9994\n",
      "Epoch 77/100\n",
      "4985/4985 [==============================] - 7s 1ms/step - loss: 0.0071 - accuracy: 0.9992 - val_loss: 0.0064 - val_accuracy: 0.9994\n",
      "Epoch 78/100\n",
      "4985/4985 [==============================] - 7s 1ms/step - loss: 0.0061 - accuracy: 0.9995 - val_loss: 0.0057 - val_accuracy: 0.9994\n",
      "Epoch 79/100\n",
      "4985/4985 [==============================] - 7s 1ms/step - loss: 0.0062 - accuracy: 0.9994 - val_loss: 0.0074 - val_accuracy: 0.9995\n",
      "Epoch 80/100\n",
      "4985/4985 [==============================] - 7s 1ms/step - loss: 0.0062 - accuracy: 0.9995 - val_loss: 0.0043 - val_accuracy: 0.9995\n",
      "Epoch 81/100\n",
      "4985/4985 [==============================] - 7s 1ms/step - loss: 0.0057 - accuracy: 0.9995 - val_loss: 0.0048 - val_accuracy: 0.9994\n",
      "Epoch 82/100\n",
      "4985/4985 [==============================] - 7s 1ms/step - loss: 0.0065 - accuracy: 0.9994 - val_loss: 0.0036 - val_accuracy: 0.9994\n",
      "Epoch 83/100\n",
      "4985/4985 [==============================] - 8s 2ms/step - loss: 0.0054 - accuracy: 0.9995 - val_loss: 0.0067 - val_accuracy: 0.9995\n",
      "Epoch 84/100\n",
      "4985/4985 [==============================] - 8s 2ms/step - loss: 0.0070 - accuracy: 0.9994 - val_loss: 0.0042 - val_accuracy: 0.9995\n",
      "Epoch 85/100\n",
      "4985/4985 [==============================] - 7s 1ms/step - loss: 0.0062 - accuracy: 0.9994 - val_loss: 0.0055 - val_accuracy: 0.9994\n",
      "Epoch 86/100\n",
      "4985/4985 [==============================] - 7s 1ms/step - loss: 0.0060 - accuracy: 0.9995 - val_loss: 0.0045 - val_accuracy: 0.9994\n",
      "Epoch 87/100\n",
      "4985/4985 [==============================] - 7s 1ms/step - loss: 0.0072 - accuracy: 0.9993 - val_loss: 0.0047 - val_accuracy: 0.9995\n",
      "Epoch 88/100\n",
      "4985/4985 [==============================] - 7s 1ms/step - loss: 0.0068 - accuracy: 0.9993 - val_loss: 0.0044 - val_accuracy: 0.9995\n",
      "Epoch 89/100\n",
      "4985/4985 [==============================] - 7s 1ms/step - loss: 0.0055 - accuracy: 0.9995 - val_loss: 0.0036 - val_accuracy: 0.9995\n",
      "Epoch 90/100\n",
      "4985/4985 [==============================] - 7s 1ms/step - loss: 0.0055 - accuracy: 0.9995 - val_loss: 0.0041 - val_accuracy: 0.9995\n",
      "Epoch 91/100\n",
      "4985/4985 [==============================] - 7s 1ms/step - loss: 0.0066 - accuracy: 0.9995 - val_loss: 0.0097 - val_accuracy: 0.9995\n",
      "Epoch 92/100\n",
      "4985/4985 [==============================] - 7s 1ms/step - loss: 0.0074 - accuracy: 0.9995 - val_loss: 0.0084 - val_accuracy: 0.9995\n",
      "Epoch 93/100\n",
      "4985/4985 [==============================] - 7s 1ms/step - loss: 0.0069 - accuracy: 0.9994 - val_loss: 0.0098 - val_accuracy: 0.9995\n",
      "Epoch 94/100\n",
      "4985/4985 [==============================] - 7s 1ms/step - loss: 0.0063 - accuracy: 0.9994 - val_loss: 0.0069 - val_accuracy: 0.9994\n",
      "Epoch 95/100\n",
      "4985/4985 [==============================] - 7s 1ms/step - loss: 0.0059 - accuracy: 0.9995 - val_loss: 0.0065 - val_accuracy: 0.9994\n",
      "Epoch 96/100\n",
      "4985/4985 [==============================] - 7s 1ms/step - loss: 0.0061 - accuracy: 0.9995 - val_loss: 0.0068 - val_accuracy: 0.9995\n",
      "Epoch 97/100\n",
      "4985/4985 [==============================] - 7s 1ms/step - loss: 0.0074 - accuracy: 0.9994 - val_loss: 0.0085 - val_accuracy: 0.9995\n",
      "Epoch 98/100\n",
      "4985/4985 [==============================] - 7s 1ms/step - loss: 0.0069 - accuracy: 0.9994 - val_loss: 0.0074 - val_accuracy: 0.9995\n",
      "Epoch 99/100\n",
      "4985/4985 [==============================] - 7s 1ms/step - loss: 0.0077 - accuracy: 0.9993 - val_loss: 0.0080 - val_accuracy: 0.9994\n",
      "Epoch 100/100\n",
      "4985/4985 [==============================] - 7s 1ms/step - loss: 0.0077 - accuracy: 0.9994 - val_loss: 0.0077 - val_accuracy: 0.9994\n"
     ]
    }
   ],
   "source": [
    "history = model.fit(train_data, train_targets, epochs=100, validation_data=(validation_data, validation_targets))"
   ]
  },
  {
   "cell_type": "markdown",
   "metadata": {},
   "source": [
    "# plots"
   ]
  },
  {
   "cell_type": "code",
   "execution_count": 17,
   "metadata": {},
   "outputs": [
    {
     "data": {
      "image/png": "[encoded data removed]",
      "text/plain": [
       "<Figure size 432x288 with 1 Axes>"
      ]
     },
     "metadata": {
      "needs_background": "light"
     },
     "output_type": "display_data"
    }
   ],
   "source": [
    "import matplotlib.pyplot as plt\n",
    "loss = history.history['accuracy']\n",
    "val_loss = history.history['val_accuracy']\n",
    "epochs = range(1, len(loss) + 1)\n",
    "plt.plot(epochs, loss, 'bo', label='Training accuracy')\n",
    "plt.plot(epochs, val_loss, 'b', label='Validation accuracy')\n",
    "plt.title('Training and validation accuracy')\n",
    "plt.xlabel('Epochs')\n",
    "plt.ylabel('Accuracy')\n",
    "plt.legend()\n",
    "plt.show()"
   ]
  },
  {
   "cell_type": "markdown",
   "metadata": {},
   "source": [
    "# Evaluation"
   ]
  },
  {
   "cell_type": "code",
   "execution_count": 18,
   "metadata": {},
   "outputs": [
    {
     "name": "stdout",
     "output_type": "stream",
     "text": [
      "2671/2671 [==============================] - 3s 935us/step - loss: 0.0084 - accuracy: 0.9993\n"
     ]
    },
    {
     "data": {
      "text/plain": [
       "[0.008442030288279057, 0.9992860555648804]"
      ]
     },
     "execution_count": 18,
     "metadata": {},
     "output_type": "execute_result"
    }
   ],
   "source": [
    "model.evaluate(test_data, test_targets)"
   ]
  },
  {
   "cell_type": "markdown",
   "metadata": {},
   "source": [
    "## 99.9% accuracy without handling imbalanced data.... 🤔🤯"
   ]
  },
  {
   "cell_type": "markdown",
   "metadata": {},
   "source": [
    "# Prediction"
   ]
  },
  {
   "cell_type": "code",
   "execution_count": 19,
   "metadata": {},
   "outputs": [],
   "source": [
    "predictions = model.predict(test_data)"
   ]
  },
  {
   "cell_type": "code",
   "execution_count": 20,
   "metadata": {},
   "outputs": [
    {
     "data": {
      "text/plain": [
       "(85443, 1)"
      ]
     },
     "execution_count": 20,
     "metadata": {},
     "output_type": "execute_result"
    }
   ],
   "source": [
    "predictions.shape"
   ]
  },
  {
   "cell_type": "code",
   "execution_count": 24,
   "metadata": {},
   "outputs": [],
   "source": [
    "predictions = predictions.reshape(85443)"
   ]
  },
  {
   "cell_type": "code",
   "execution_count": 27,
   "metadata": {},
   "outputs": [],
   "source": [
    "output_df = pd.DataFrame({'Actual': test_targets, 'Prediction': np.round(predictions)})"
   ]
  },
  {
   "cell_type": "code",
   "execution_count": 28,
   "metadata": {},
   "outputs": [
    {
     "data": {
      "text/html": [
       "<div>\n",
       "<style scoped>\n",
       "    .dataframe tbody tr th:only-of-type {\n",
       "        vertical-align: middle;\n",
       "    }\n",
       "\n",
       "    .dataframe tbody tr th {\n",
       "        vertical-align: top;\n",
       "    }\n",
       "\n",
       "    .dataframe thead th {\n",
       "        text-align: right;\n",
       "    }\n",
       "</style>\n",
       "<table border=\"1\" class=\"dataframe\">\n",
       "  <thead>\n",
       "    <tr style=\"text-align: right;\">\n",
       "      <th></th>\n",
       "      <th>Actual</th>\n",
       "      <th>Prediction</th>\n",
       "    </tr>\n",
       "  </thead>\n",
       "  <tbody>\n",
       "    <tr>\n",
       "      <th>233727</th>\n",
       "      <td>0</td>\n",
       "      <td>0.0</td>\n",
       "    </tr>\n",
       "    <tr>\n",
       "      <th>264809</th>\n",
       "      <td>0</td>\n",
       "      <td>0.0</td>\n",
       "    </tr>\n",
       "    <tr>\n",
       "      <th>243161</th>\n",
       "      <td>0</td>\n",
       "      <td>0.0</td>\n",
       "    </tr>\n",
       "    <tr>\n",
       "      <th>47288</th>\n",
       "      <td>0</td>\n",
       "      <td>0.0</td>\n",
       "    </tr>\n",
       "    <tr>\n",
       "      <th>180822</th>\n",
       "      <td>0</td>\n",
       "      <td>0.0</td>\n",
       "    </tr>\n",
       "  </tbody>\n",
       "</table>\n",
       "</div>"
      ],
      "text/plain": [
       "        Actual  Prediction\n",
       "233727       0         0.0\n",
       "264809       0         0.0\n",
       "243161       0         0.0\n",
       "47288        0         0.0\n",
       "180822       0         0.0"
      ]
     },
     "execution_count": 28,
     "metadata": {},
     "output_type": "execute_result"
    }
   ],
   "source": [
    "output_df.head()"
   ]
  },
  {
   "cell_type": "code",
   "execution_count": 30,
   "metadata": {},
   "outputs": [
    {
     "data": {
      "text/plain": [
       "(85443, 2)"
      ]
     },
     "execution_count": 30,
     "metadata": {},
     "output_type": "execute_result"
    }
   ],
   "source": [
    "output_df.shape"
   ]
  },
  {
   "cell_type": "markdown",
   "metadata": {},
   "source": [
    "# How many correct predictions?"
   ]
  },
  {
   "cell_type": "code",
   "execution_count": 29,
   "metadata": {},
   "outputs": [
    {
     "data": {
      "text/plain": [
       "(85382, 2)"
      ]
     },
     "execution_count": 29,
     "metadata": {},
     "output_type": "execute_result"
    }
   ],
   "source": [
    "filt = (output_df.loc[:, 'Actual'] == output_df.loc[:, 'Prediction'])\n",
    "\n",
    "output_df[filt].shape"
   ]
  },
  {
   "cell_type": "code",
   "execution_count": 31,
   "metadata": {},
   "outputs": [
    {
     "name": "stdout",
     "output_type": "stream",
     "text": [
      "Accuracy is 99.92860737567734%\n"
     ]
    }
   ],
   "source": [
    "print(f'Accuracy is {(output_df[filt].shape[0]/output_df.shape[0])*100}%')"
   ]
  },
  {
   "cell_type": "markdown",
   "metadata": {},
   "source": [
    "# Extra Work - Imbalanced Data\n",
    "\n",
    "-> finding ROC AUC Score"
   ]
  },
  {
   "cell_type": "code",
   "execution_count": 32,
   "metadata": {},
   "outputs": [
    {
     "data": {
      "text/plain": [
       "0.889948298351997"
      ]
     },
     "execution_count": 32,
     "metadata": {},
     "output_type": "execute_result"
    }
   ],
   "source": [
    "from sklearn.metrics import roc_auc_score\n",
    "\n",
    "roc_auc_score(test_targets, predictions)"
   ]
  },
  {
   "cell_type": "markdown",
   "metadata": {},
   "source": [
    "So, this is an excellent classifier according to this post [here](https://www.researchgate.net/post/What-is-the-value-of-the-area-under-the-roc-curve-AUC-to-conclude-that-a-classifier-is-excellent#:~:text=for%20Atomic%20Research-,What%20is%20the%20value%20of%20the%20area%20under%20the%20roc,1%20denotes%20an%20excellent%20classifier.)"
   ]
  },
  {
   "cell_type": "markdown",
   "metadata": {},
   "source": [
    "-> Weighted Neural Networks"
   ]
  },
  {
   "cell_type": "code",
   "execution_count": 35,
   "metadata": {},
   "outputs": [
    {
     "data": {
      "text/plain": [
       "0    159214\n",
       "1       277\n",
       "Name: Class, dtype: int64"
      ]
     },
     "execution_count": 35,
     "metadata": {},
     "output_type": "execute_result"
    }
   ],
   "source": [
    "train_targets.value_counts()"
   ]
  },
  {
   "cell_type": "markdown",
   "metadata": {},
   "source": [
    "There are 277 1's (frauds) and 159215 0's (non-frauds)\n",
    "\n",
    "159215/277 = 574\n",
    "\n",
    "0's are 574 times more than 1's\n",
    "\n",
    "we can assign custom weights to NN accordingly"
   ]
  },
  {
   "cell_type": "code",
   "execution_count": 37,
   "metadata": {},
   "outputs": [],
   "source": [
    "weights = {\n",
    "    0:1,\n",
    "    1:570\n",
    "}"
   ]
  },
  {
   "cell_type": "code",
   "execution_count": 38,
   "metadata": {},
   "outputs": [
    {
     "name": "stdout",
     "output_type": "stream",
     "text": [
      "Epoch 1/100\n",
      "4985/4985 [==============================] - 25s 5ms/step - loss: 2.3137 - accuracy: 0.9806 - val_loss: 0.0094 - val_accuracy: 0.9993\n",
      "Epoch 2/100\n",
      "4985/4985 [==============================] - 8s 2ms/step - loss: 3.1956 - accuracy: 0.9993 - val_loss: 0.0095 - val_accuracy: 0.9994\n",
      "Epoch 3/100\n",
      "4985/4985 [==============================] - 7s 2ms/step - loss: 1.7960 - accuracy: 0.9994 - val_loss: 0.0096 - val_accuracy: 0.9994\n",
      "Epoch 4/100\n",
      "4985/4985 [==============================] - 7s 2ms/step - loss: 1.8852 - accuracy: 0.9994 - val_loss: 0.0094 - val_accuracy: 0.9994\n",
      "Epoch 5/100\n",
      "4985/4985 [==============================] - 8s 2ms/step - loss: 2.0950 - accuracy: 0.9994 - val_loss: 0.0142 - val_accuracy: 0.9994\n",
      "Epoch 6/100\n",
      "4985/4985 [==============================] - 8s 2ms/step - loss: 1.5259 - accuracy: 0.9994 - val_loss: 0.0631 - val_accuracy: 0.9984\n",
      "Epoch 7/100\n",
      "4985/4985 [==============================] - 8s 2ms/step - loss: 1.3273 - accuracy: 0.9990 - val_loss: 0.0094 - val_accuracy: 0.9994\n",
      "Epoch 8/100\n",
      "4985/4985 [==============================] - 8s 2ms/step - loss: 1.2960 - accuracy: 0.9993 - val_loss: 0.0088 - val_accuracy: 0.9994\n",
      "Epoch 9/100\n",
      "4985/4985 [==============================] - 8s 2ms/step - loss: 1.6479 - accuracy: 0.9992 - val_loss: 0.0356 - val_accuracy: 0.9994\n",
      "Epoch 10/100\n",
      "4985/4985 [==============================] - 8s 2ms/step - loss: 1.4006 - accuracy: 0.9990 - val_loss: 0.0073 - val_accuracy: 0.9994\n",
      "Epoch 11/100\n",
      "4985/4985 [==============================] - 7s 2ms/step - loss: 1.3166 - accuracy: 0.9993 - val_loss: 0.0079 - val_accuracy: 0.9994\n",
      "Epoch 12/100\n",
      "4985/4985 [==============================] - 7s 1ms/step - loss: 1.1966 - accuracy: 0.9955 - val_loss: 0.0092 - val_accuracy: 0.9994\n",
      "Epoch 13/100\n",
      "4985/4985 [==============================] - 7s 1ms/step - loss: 1.1625 - accuracy: 0.9913 - val_loss: 0.2879 - val_accuracy: 0.9722\n",
      "Epoch 14/100\n",
      "4985/4985 [==============================] - 8s 2ms/step - loss: 1.1472 - accuracy: 0.9867 - val_loss: 0.0073 - val_accuracy: 0.9994\n",
      "Epoch 15/100\n",
      "4985/4985 [==============================] - 8s 2ms/step - loss: 1.7627 - accuracy: 0.9933 - val_loss: 0.0308 - val_accuracy: 0.9994\n",
      "Epoch 16/100\n",
      "4985/4985 [==============================] - 8s 2ms/step - loss: 1.2970 - accuracy: 0.9891 - val_loss: 0.0558 - val_accuracy: 0.9993\n",
      "Epoch 17/100\n",
      "4985/4985 [==============================] - 7s 1ms/step - loss: 1.2702 - accuracy: 0.9817 - val_loss: 0.0076 - val_accuracy: 0.9995\n",
      "Epoch 18/100\n",
      "4985/4985 [==============================] - 8s 2ms/step - loss: 1.2874 - accuracy: 0.9923 - val_loss: 0.0081 - val_accuracy: 0.9994\n",
      "Epoch 19/100\n",
      "4985/4985 [==============================] - 7s 1ms/step - loss: 1.2980 - accuracy: 0.9916 - val_loss: 0.0119 - val_accuracy: 0.9994\n",
      "Epoch 20/100\n",
      "4985/4985 [==============================] - 7s 1ms/step - loss: 1.0887 - accuracy: 0.9907 - val_loss: 0.0182 - val_accuracy: 0.9994\n",
      "Epoch 21/100\n",
      "4985/4985 [==============================] - 7s 1ms/step - loss: 1.2933 - accuracy: 0.9811 - val_loss: 0.0199 - val_accuracy: 0.9994\n",
      "Epoch 22/100\n",
      "4985/4985 [==============================] - 7s 1ms/step - loss: 1.2237 - accuracy: 0.9865 - val_loss: 0.0101 - val_accuracy: 0.9994\n",
      "Epoch 23/100\n",
      "4985/4985 [==============================] - 7s 1ms/step - loss: 1.3716 - accuracy: 0.9843 - val_loss: 0.0081 - val_accuracy: 0.9994\n",
      "Epoch 24/100\n",
      "4985/4985 [==============================] - 7s 1ms/step - loss: 1.6834 - accuracy: 0.9646 - val_loss: 0.0082 - val_accuracy: 0.9994\n",
      "Epoch 25/100\n",
      "4985/4985 [==============================] - 7s 1ms/step - loss: 1.2438 - accuracy: 0.9782 - val_loss: 0.0107 - val_accuracy: 0.9994\n",
      "Epoch 26/100\n",
      "4985/4985 [==============================] - 8s 2ms/step - loss: 1.2611 - accuracy: 0.9838 - val_loss: 0.0158 - val_accuracy: 0.9993\n",
      "Epoch 27/100\n",
      "4985/4985 [==============================] - 8s 2ms/step - loss: 1.4229 - accuracy: 0.9714 - val_loss: 0.0094 - val_accuracy: 0.9994\n",
      "Epoch 28/100\n",
      "4985/4985 [==============================] - 7s 1ms/step - loss: 1.4477 - accuracy: 0.9652 - val_loss: 0.1459 - val_accuracy: 0.9927\n",
      "Epoch 29/100\n",
      "4985/4985 [==============================] - 7s 1ms/step - loss: 1.1370 - accuracy: 0.9690 - val_loss: 0.0173 - val_accuracy: 0.9993\n",
      "Epoch 30/100\n",
      "4985/4985 [==============================] - 7s 1ms/step - loss: 0.9129 - accuracy: 0.9756 - val_loss: 0.0274 - val_accuracy: 0.9989\n",
      "Epoch 31/100\n",
      "4985/4985 [==============================] - 8s 2ms/step - loss: 1.2150 - accuracy: 0.9732 - val_loss: 0.1601 - val_accuracy: 0.9944\n",
      "Epoch 32/100\n",
      "4985/4985 [==============================] - 7s 1ms/step - loss: 1.2189 - accuracy: 0.9495 - val_loss: 0.0106 - val_accuracy: 0.9994\n",
      "Epoch 33/100\n",
      "4985/4985 [==============================] - 8s 2ms/step - loss: 1.2310 - accuracy: 0.9793 - val_loss: 0.0287 - val_accuracy: 0.9989\n",
      "Epoch 34/100\n",
      "4985/4985 [==============================] - 7s 1ms/step - loss: 1.1462 - accuracy: 0.9507 - val_loss: 0.2312 - val_accuracy: 0.9801\n",
      "Epoch 35/100\n",
      "4985/4985 [==============================] - 7s 1ms/step - loss: 1.3485 - accuracy: 0.9568 - val_loss: 0.0167 - val_accuracy: 0.9992\n",
      "Epoch 36/100\n",
      "4985/4985 [==============================] - 8s 2ms/step - loss: 1.1531 - accuracy: 0.9578 - val_loss: 0.0099 - val_accuracy: 0.9994\n",
      "Epoch 37/100\n",
      "4985/4985 [==============================] - 7s 1ms/step - loss: 1.4512 - accuracy: 0.9681 - val_loss: 0.0098 - val_accuracy: 0.9994\n",
      "Epoch 38/100\n",
      "4985/4985 [==============================] - 7s 1ms/step - loss: 1.6136 - accuracy: 0.9472 - val_loss: 0.0106 - val_accuracy: 0.9993\n",
      "Epoch 39/100\n",
      "4985/4985 [==============================] - 7s 1ms/step - loss: 1.2826 - accuracy: 0.9583 - val_loss: 0.0098 - val_accuracy: 0.9994\n",
      "Epoch 40/100\n",
      "4985/4985 [==============================] - 8s 2ms/step - loss: 1.1967 - accuracy: 0.9488 - val_loss: 0.0108 - val_accuracy: 0.9994\n",
      "Epoch 41/100\n",
      "4985/4985 [==============================] - 7s 1ms/step - loss: 1.3965 - accuracy: 0.9586 - val_loss: 0.0087 - val_accuracy: 0.9994\n",
      "Epoch 42/100\n",
      "4985/4985 [==============================] - 7s 1ms/step - loss: 1.2851 - accuracy: 0.9526 - val_loss: 0.0256 - val_accuracy: 0.9992\n",
      "Epoch 43/100\n",
      "4985/4985 [==============================] - 7s 1ms/step - loss: 1.0474 - accuracy: 0.9615 - val_loss: 0.0093 - val_accuracy: 0.9994\n",
      "Epoch 44/100\n",
      "4985/4985 [==============================] - 7s 2ms/step - loss: 1.3905 - accuracy: 0.9454 - val_loss: 0.0088 - val_accuracy: 0.9994\n",
      "Epoch 45/100\n",
      "4985/4985 [==============================] - 8s 2ms/step - loss: 1.5392 - accuracy: 0.9590 - val_loss: 0.0081 - val_accuracy: 0.9994\n",
      "Epoch 46/100\n",
      "4985/4985 [==============================] - 7s 1ms/step - loss: 1.1702 - accuracy: 0.9576 - val_loss: 0.0079 - val_accuracy: 0.9994\n",
      "Epoch 47/100\n",
      "4985/4985 [==============================] - 7s 1ms/step - loss: 1.3855 - accuracy: 0.9458 - val_loss: 0.6976 - val_accuracy: 0.5203\n",
      "Epoch 48/100\n",
      "4985/4985 [==============================] - 7s 1ms/step - loss: 1.6263 - accuracy: 0.9460 - val_loss: 0.0940 - val_accuracy: 0.9990\n",
      "Epoch 49/100\n",
      "4985/4985 [==============================] - 7s 1ms/step - loss: 1.3630 - accuracy: 0.9529 - val_loss: 0.1257 - val_accuracy: 0.9966\n",
      "Epoch 50/100\n",
      "4985/4985 [==============================] - 7s 1ms/step - loss: 1.1950 - accuracy: 0.9419 - val_loss: 0.0079 - val_accuracy: 0.9994\n",
      "Epoch 51/100\n",
      "4985/4985 [==============================] - 7s 1ms/step - loss: 1.2580 - accuracy: 0.9640 - val_loss: 0.0088 - val_accuracy: 0.9994\n",
      "Epoch 52/100\n",
      "4985/4985 [==============================] - 7s 1ms/step - loss: 1.2267 - accuracy: 0.9398 - val_loss: 0.0347 - val_accuracy: 0.9991\n",
      "Epoch 53/100\n",
      "4985/4985 [==============================] - 8s 2ms/step - loss: 1.0160 - accuracy: 0.9567 - val_loss: 0.0073 - val_accuracy: 0.9994\n",
      "Epoch 54/100\n",
      "4985/4985 [==============================] - 7s 1ms/step - loss: 1.3651 - accuracy: 0.9436 - val_loss: 0.0093 - val_accuracy: 0.9994\n",
      "Epoch 55/100\n",
      "4985/4985 [==============================] - 7s 1ms/step - loss: 1.4593 - accuracy: 0.9601 - val_loss: 0.0083 - val_accuracy: 0.9994\n",
      "Epoch 56/100\n",
      "4985/4985 [==============================] - 7s 1ms/step - loss: 1.4730 - accuracy: 0.9365 - val_loss: 0.0178 - val_accuracy: 0.9993\n",
      "Epoch 57/100\n",
      "4985/4985 [==============================] - 8s 2ms/step - loss: 1.2957 - accuracy: 0.9380 - val_loss: 0.0087 - val_accuracy: 0.9994\n",
      "Epoch 58/100\n",
      "4985/4985 [==============================] - 7s 1ms/step - loss: 1.4379 - accuracy: 0.9455 - val_loss: 0.0381 - val_accuracy: 0.9987\n",
      "Epoch 59/100\n",
      "4985/4985 [==============================] - 7s 1ms/step - loss: 1.2785 - accuracy: 0.9401 - val_loss: 0.1628 - val_accuracy: 0.9770\n",
      "Epoch 60/100\n",
      "4985/4985 [==============================] - 7s 1ms/step - loss: 1.2889 - accuracy: 0.9412 - val_loss: 0.0071 - val_accuracy: 0.9994\n",
      "Epoch 61/100\n",
      "4985/4985 [==============================] - 8s 2ms/step - loss: 1.4355 - accuracy: 0.9418 - val_loss: 0.0072 - val_accuracy: 0.9994\n",
      "Epoch 62/100\n",
      "4985/4985 [==============================] - 7s 1ms/step - loss: 1.5327 - accuracy: 0.9546 - val_loss: 0.0233 - val_accuracy: 0.9984\n",
      "Epoch 63/100\n",
      "4985/4985 [==============================] - 7s 1ms/step - loss: 1.1814 - accuracy: 0.9519 - val_loss: 0.0067 - val_accuracy: 0.9994\n",
      "Epoch 64/100\n",
      "4985/4985 [==============================] - 7s 1ms/step - loss: 1.1299 - accuracy: 0.9540 - val_loss: 1.5907 - val_accuracy: 0.1982\n",
      "Epoch 65/100\n",
      "4985/4985 [==============================] - 7s 1ms/step - loss: 1.3772 - accuracy: 0.9335 - val_loss: 0.0127 - val_accuracy: 0.9990\n",
      "Epoch 66/100\n",
      "4985/4985 [==============================] - 7s 1ms/step - loss: 1.4980 - accuracy: 0.9496 - val_loss: 2.5607 - val_accuracy: 0.0732\n",
      "Epoch 67/100\n",
      "4985/4985 [==============================] - 7s 1ms/step - loss: 1.2183 - accuracy: 0.9377 - val_loss: 0.0150 - val_accuracy: 0.9990\n",
      "Epoch 68/100\n",
      "4985/4985 [==============================] - 8s 2ms/step - loss: 1.3036 - accuracy: 0.9285 - val_loss: 0.0154 - val_accuracy: 0.9989\n",
      "Epoch 69/100\n",
      "4985/4985 [==============================] - 7s 1ms/step - loss: 1.4651 - accuracy: 0.9357 - val_loss: 0.0202 - val_accuracy: 0.9989\n",
      "Epoch 70/100\n",
      "4985/4985 [==============================] - 8s 2ms/step - loss: 1.9032 - accuracy: 0.9232 - val_loss: 0.1134 - val_accuracy: 0.9983\n",
      "Epoch 71/100\n",
      "4985/4985 [==============================] - 7s 1ms/step - loss: 1.2093 - accuracy: 0.9420 - val_loss: 0.0375 - val_accuracy: 0.9993\n",
      "Epoch 72/100\n",
      "4985/4985 [==============================] - 7s 1ms/step - loss: 1.6045 - accuracy: 0.9335 - val_loss: 2.7558 - val_accuracy: 0.0073\n",
      "Epoch 73/100\n",
      "4985/4985 [==============================] - 7s 1ms/step - loss: 1.4180 - accuracy: 0.9446 - val_loss: 0.0077 - val_accuracy: 0.9994\n",
      "Epoch 74/100\n",
      "4985/4985 [==============================] - 7s 1ms/step - loss: 1.6003 - accuracy: 0.9609 - val_loss: 0.0113 - val_accuracy: 0.9990\n",
      "Epoch 75/100\n",
      "4985/4985 [==============================] - 7s 1ms/step - loss: 1.2712 - accuracy: 0.9483 - val_loss: 0.0071 - val_accuracy: 0.9993\n",
      "Epoch 76/100\n",
      "4985/4985 [==============================] - 7s 1ms/step - loss: 1.5369 - accuracy: 0.9406 - val_loss: 0.1377 - val_accuracy: 0.9894\n",
      "Epoch 77/100\n",
      "4985/4985 [==============================] - 7s 1ms/step - loss: 1.4182 - accuracy: 0.9289 - val_loss: 0.0066 - val_accuracy: 0.9994\n",
      "Epoch 78/100\n",
      "4985/4985 [==============================] - 7s 1ms/step - loss: 1.6075 - accuracy: 0.9400 - val_loss: 0.0062 - val_accuracy: 0.9994\n",
      "Epoch 79/100\n",
      "4985/4985 [==============================] - 7s 1ms/step - loss: 1.2962 - accuracy: 0.9539 - val_loss: 0.0090 - val_accuracy: 0.9994\n",
      "Epoch 80/100\n",
      "4985/4985 [==============================] - 7s 1ms/step - loss: 1.5664 - accuracy: 0.9332 - val_loss: 0.0064 - val_accuracy: 0.9994\n",
      "Epoch 81/100\n",
      "4985/4985 [==============================] - 7s 1ms/step - loss: 1.4238 - accuracy: 0.9552 - val_loss: 0.0062 - val_accuracy: 0.9994\n",
      "Epoch 82/100\n",
      "4985/4985 [==============================] - 7s 1ms/step - loss: 1.6437 - accuracy: 0.9426 - val_loss: 0.0061 - val_accuracy: 0.9994\n",
      "Epoch 83/100\n",
      "4985/4985 [==============================] - 8s 2ms/step - loss: 1.2920 - accuracy: 0.9383 - val_loss: 0.0211 - val_accuracy: 0.9992\n",
      "Epoch 84/100\n",
      "4985/4985 [==============================] - 7s 1ms/step - loss: 1.3609 - accuracy: 0.9293 - val_loss: 0.0087 - val_accuracy: 0.9994\n",
      "Epoch 85/100\n",
      "4985/4985 [==============================] - 7s 1ms/step - loss: 1.9015 - accuracy: 0.9319 - val_loss: 0.0070 - val_accuracy: 0.9994\n",
      "Epoch 86/100\n",
      "4985/4985 [==============================] - 8s 2ms/step - loss: 1.5336 - accuracy: 0.9264 - val_loss: 2.7779 - val_accuracy: 0.0126\n",
      "Epoch 87/100\n",
      "4985/4985 [==============================] - 7s 1ms/step - loss: 1.3081 - accuracy: 0.9416 - val_loss: 0.0092 - val_accuracy: 0.9994\n",
      "Epoch 88/100\n",
      "4985/4985 [==============================] - 7s 1ms/step - loss: 1.4807 - accuracy: 0.9411 - val_loss: 2.0994 - val_accuracy: 0.0435\n",
      "Epoch 89/100\n",
      "4985/4985 [==============================] - 7s 1ms/step - loss: 1.3520 - accuracy: 0.9257 - val_loss: 0.5901 - val_accuracy: 0.6732\n",
      "Epoch 90/100\n",
      "4985/4985 [==============================] - 7s 1ms/step - loss: 1.4807 - accuracy: 0.9501 - val_loss: 0.0070 - val_accuracy: 0.9992\n",
      "Epoch 91/100\n",
      "4985/4985 [==============================] - 8s 2ms/step - loss: 1.3790 - accuracy: 0.9362 - val_loss: 0.0504 - val_accuracy: 0.9992\n",
      "Epoch 92/100\n",
      "4985/4985 [==============================] - 7s 1ms/step - loss: 1.6031 - accuracy: 0.9389 - val_loss: 0.0080 - val_accuracy: 0.9994\n",
      "Epoch 93/100\n",
      "4985/4985 [==============================] - 7s 1ms/step - loss: 1.7628 - accuracy: 0.9479 - val_loss: 0.1069 - val_accuracy: 0.9934\n",
      "Epoch 94/100\n",
      "4985/4985 [==============================] - 7s 1ms/step - loss: 1.5607 - accuracy: 0.9274 - val_loss: 0.0101 - val_accuracy: 0.9991\n",
      "Epoch 95/100\n",
      "4985/4985 [==============================] - 7s 1ms/step - loss: 1.9630 - accuracy: 0.9317 - val_loss: 0.0080 - val_accuracy: 0.9994\n",
      "Epoch 96/100\n",
      "4985/4985 [==============================] - 7s 1ms/step - loss: 1.6710 - accuracy: 0.9148 - val_loss: 0.0080 - val_accuracy: 0.9994\n",
      "Epoch 97/100\n",
      "4985/4985 [==============================] - 7s 1ms/step - loss: 1.4931 - accuracy: 0.9470 - val_loss: 0.0381 - val_accuracy: 0.9986\n",
      "Epoch 98/100\n",
      "4985/4985 [==============================] - 7s 2ms/step - loss: 1.3149 - accuracy: 0.9452 - val_loss: 0.0302 - val_accuracy: 0.9986\n",
      "Epoch 99/100\n",
      "4985/4985 [==============================] - 8s 2ms/step - loss: 1.2778 - accuracy: 0.9382 - val_loss: 0.0093 - val_accuracy: 0.9993\n",
      "Epoch 100/100\n",
      "4985/4985 [==============================] - 8s 2ms/step - loss: 1.2776 - accuracy: 0.9412 - val_loss: 0.0146 - val_accuracy: 0.9991\n"
     ]
    }
   ],
   "source": [
    "model = models.Sequential()\n",
    "\n",
    "model.add(layers.Dense(10, input_shape=(train_data.shape[1],), activation='relu'))\n",
    "\n",
    "model.add(layers.Dense(8, activation='relu'))\n",
    "\n",
    "model.add(layers.Dense(6, activation='relu'))\n",
    "\n",
    "model.add(layers.Dense(1, activation='sigmoid'))\n",
    "\n",
    "model.compile(optimizer='rmsprop', loss='binary_crossentropy', metrics=['accuracy'])\n",
    "\n",
    "# CHANGE\n",
    "history = model.fit(train_data, train_targets, epochs=100, validation_data=(validation_data, validation_targets), class_weight=weights)"
   ]
  },
  {
   "cell_type": "code",
   "execution_count": 39,
   "metadata": {},
   "outputs": [],
   "source": [
    "predictions = model.predict(test_data)"
   ]
  },
  {
   "cell_type": "code",
   "execution_count": 40,
   "metadata": {},
   "outputs": [
    {
     "data": {
      "text/plain": [
       "0.9582468564743789"
      ]
     },
     "execution_count": 40,
     "metadata": {},
     "output_type": "execute_result"
    }
   ],
   "source": [
    "from sklearn.metrics import roc_auc_score\n",
    "\n",
    "roc_auc_score(test_targets, predictions)"
   ]
  },
  {
   "cell_type": "markdown",
   "metadata": {},
   "source": [
    "# By using Cost Sensitive/ Weighted Neural Network, the ROC AUC Score is improved from 0.88 to 0.95 (outstanding classifier)"
   ]
  },
  {
   "cell_type": "code",
   "execution_count": 41,
   "metadata": {},
   "outputs": [
    {
     "name": "stdout",
     "output_type": "stream",
     "text": [
      "2671/2671 [==============================] - 2s 914us/step - loss: 0.0133 - accuracy: 0.9991\n"
     ]
    },
    {
     "data": {
      "text/plain": [
       "[0.013341130688786507, 0.9990988373756409]"
      ]
     },
     "execution_count": 41,
     "metadata": {},
     "output_type": "execute_result"
    }
   ],
   "source": [
    "model.evaluate(test_data, test_targets)"
   ]
  }
 ],
 "metadata": {
  "kernelspec": {
   "display_name": "Python 3",
   "language": "python",
   "name": "python3"
  },
  "language_info": {
   "codemirror_mode": {
    "name": "ipython",
    "version": 3
   },
   "file_extension": ".py",
   "mimetype": "text/x-python",
   "name": "python",
   "nbconvert_exporter": "python",
   "pygments_lexer": "ipython3",
   "version": "3.7.3"
  }
 },
 "nbformat": 4,
 "nbformat_minor": 4
}
